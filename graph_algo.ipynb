{
 "cells": [
  {
   "cell_type": "markdown",
   "metadata": {
    "collapsed": false
   },
   "source": [
    "A model on $n$ vertices with order $d$.\n",
    "$K$ vertices forming a clique, meaning that any size-d tuple within the clique is connected by a hyperedge.\n",
    "All other size-$d$ tuples form a hyperedge with probability $q = 1/2$ ."
   ]
  },
  {
   "cell_type": "code",
   "execution_count": 295,
   "metadata": {
    "collapsed": false
   },
   "outputs": [],
   "source": [
    "import math\n",
    "import time as tm\n",
    "from itertools import permutations\n",
    "\n",
    "import numpy as np"
   ]
  },
  {
   "cell_type": "code",
   "execution_count": 296,
   "metadata": {},
   "outputs": [],
   "source": [
    "# increment the degree of each vertex on graph g by 1\n",
    "def add_all(i, j, k, g):\n",
    "    g[i, j, k] = 1\n",
    "    g[i, k, j] = 1\n",
    "    g[j, i, k] = 1\n",
    "    g[j, k, i] = 1\n",
    "    g[k, i, j] = 1\n",
    "    g[k, j, i] = 1\n",
    "    return g\n",
    "\n",
    "# decrement the degree of each vertex on graph g to 0\n",
    "def remove_all(i, j, k, g):\n",
    "    g[i, j, k] = 0\n",
    "    g[i, k, j] = 0\n",
    "    g[j, i, k] = 0\n",
    "    g[j, k, i] = 0\n",
    "    g[k, i, j] = 0\n",
    "    g[k, j, i] = 0\n",
    "    return g"
   ]
  },
  {
   "cell_type": "code",
   "execution_count": 297,
   "metadata": {},
   "outputs": [],
   "source": [
    "##create a graph with planted clique\n",
    "def generate_graph(num_vertices, pr, clq_size):\n",
    "    def create_edges():\n",
    "        for i in range(num_vertices):\n",
    "            for j in range(i + 1, num_vertices):\n",
    "                for k in range(j + 1, num_vertices):\n",
    "                    if np.random.uniform(0, 1, 1) < pr: # probability of creating edges\n",
    "                        vec[[i, j, k]] += 1\n",
    "                        add_all(i, j, k, g)\n",
    "\n",
    "    def plant_clique():\n",
    "        for i in range(clq_size):\n",
    "            for j in range(i + 1, clq_size):\n",
    "                for k in range(j + 1, clq_size):\n",
    "                    vec[[clq_vertex[i], clq_vertex[j], clq_vertex[k]]] += 1\n",
    "                    add_all(clq_vertex[i], clq_vertex[j], clq_vertex[k], g)\n",
    "\n",
    "    g = np.zeros((num_vertices, num_vertices, num_vertices)) # graph on n vertices\n",
    "    vec = np.zeros(num_vertices, ) # edge\n",
    "    create_edges()\n",
    "    clq_vertex = np.random.choice(range(num_vertices), clq_size, replace=False) # randomly choose a given number of clique vertices\n",
    "    plant_clique() # plant a clique to vertices (add edges between every two pairs of vertices)\n",
    "\n",
    "    return g, vec, clq_vertex"
   ]
  },
  {
   "cell_type": "code",
   "execution_count": 298,
   "metadata": {
    "collapsed": false
   },
   "outputs": [],
   "source": [
    "# calculate total number of edges\n",
    "def count_edge(g, num_vertices):\n",
    "    num_edges = 0\n",
    "    for i in range(num_vertices):\n",
    "        for j in range(i + 1, num_vertices):\n",
    "            for k in range(j + 1, num_vertices):\n",
    "                if g[i, j, k] == 1:\n",
    "                    num_edges += 1\n",
    "    return num_edges"
   ]
  },
  {
   "cell_type": "code",
   "execution_count": 299,
   "metadata": {},
   "outputs": [],
   "source": [
    "# check if the graph is a clique\n",
    "def is_clique(g, vec, num_vertices):\n",
    "    active_count = np.count_nonzero(vec)  # number of vertices that are associated with at least 1 edge\n",
    "    edge_sum = count_edge(g, num_vertices)  # number of edges\n",
    "    return edge_sum == math.comb(active_count, 3)"
   ]
  },
  {
   "cell_type": "code",
   "execution_count": 300,
   "metadata": {},
   "outputs": [],
   "source": [
    "# remove edge\n",
    "def remove_edges(g, num_vertices, vec, curr_idx):\n",
    "    vec[curr_idx] = 0\n",
    "    for j in range(0, num_vertices):\n",
    "        for k in range(j+1, num_vertices):\n",
    "            if g[curr_idx, j, k] == 1:\n",
    "                vec[[j, k]] -= 1\n",
    "                remove_all(curr_idx, j, k, g)\n",
    "    return g, vec"
   ]
  },
  {
   "cell_type": "markdown",
   "metadata": {},
   "source": [
    "### Generate a graph"
   ]
  },
  {
   "cell_type": "code",
   "execution_count": 301,
   "metadata": {
    "collapsed": false
   },
   "outputs": [
    {
     "name": "stdout",
     "output_type": "stream",
     "text": [
      "Time taken to generate graph: 0.48 seconds\n"
     ]
    }
   ],
   "source": [
    "N = 100  # number of vertices\n",
    "P = 0.5  # probability of an edge being included\n",
    "K = 10  # clique size\n",
    "\n",
    "start_generate = tm.time()\n",
    "res = generate_graph(N, P, K)\n",
    "G, V, clique_vertices = res[0], res[1], res[-1] # G: graph V: vector storing the number of edges associated with each vertex\n",
    "G_0 = G.copy()\n",
    "\n",
    "# print(f\"edge-occurrence vector: {V}\\n\")\n",
    "# print(f\"set of clique vertices after generation phase: {clique_vertices}\\n\")\n",
    "\n",
    "time_generate = np.round(tm.time() - start_generate, 3)\n",
    "print(f\"Time taken to generate graph: {time_generate} seconds\")"
   ]
  },
  {
   "cell_type": "markdown",
   "metadata": {},
   "source": [
    "### Removal Phase"
   ]
  },
  {
   "cell_type": "code",
   "execution_count": 302,
   "metadata": {},
   "outputs": [
    {
     "name": "stdout",
     "output_type": "stream",
     "text": [
      "is a clique at iteration #90!!!\n",
      "Time taken to execute removal: 2.417 seconds\n"
     ]
    }
   ],
   "source": [
    "start_removal = tm.time()\n",
    "itr = 0\n",
    "removed = []  # keep track of the vertices removed from the original graph to form a clique\n",
    "\n",
    "while not is_clique(G, V, N):\n",
    "    itr += 1\n",
    "    curr = -1\n",
    "    idx_sorted = np.argsort(V)\n",
    "\n",
    "    for idx in range(N):\n",
    "        if V[idx_sorted[idx]] != 0:\n",
    "            curr = idx_sorted[idx]\n",
    "            removed.append(curr)\n",
    "            break\n",
    "\n",
    "    A = remove_edges(G, N, V, curr)\n",
    "    \n",
    "    G, V = A[0], A[1]\n",
    "\n",
    "print(f\"is a clique at iteration #{itr}!!!\")\n",
    "print(f\"Time taken to execute removal: {np.round(tm.time() - start_removal, 3)} seconds\")"
   ]
  },
  {
   "cell_type": "code",
   "execution_count": 303,
   "metadata": {},
   "outputs": [],
   "source": [
    "# print(f\"number of iterations in the removal phase: {itr}\")"
   ]
  },
  {
   "cell_type": "code",
   "execution_count": 304,
   "metadata": {
    "collapsed": false
   },
   "outputs": [
    {
     "data": {
      "text/plain": [
       "array([ 5,  8, 19, 43, 57, 60, 71, 83, 94, 98])"
      ]
     },
     "execution_count": 304,
     "metadata": {},
     "output_type": "execute_result"
    }
   ],
   "source": [
    "included = np.setdiff1d(np.arange(N), removed)\n",
    "included"
   ]
  },
  {
   "cell_type": "markdown",
   "metadata": {
    "collapsed": false
   },
   "source": [
    "### Inclusion Phase"
   ]
  },
  {
   "cell_type": "code",
   "execution_count": 305,
   "metadata": {},
   "outputs": [],
   "source": [
    "def inclusion_phase(target, in_set, g):\n",
    "    def connected(): \n",
    "        for j in range(len(in_set)):\n",
    "            for k in range(j + 1, len(in_set)):\n",
    "                if g[target_idx, in_set[j], in_set[k]] != 1:\n",
    "                    return False\n",
    "        return True\n",
    "\n",
    "    for target_idx in target:\n",
    "        if connected():\n",
    "            print(f\"add {target_idx} to clique!\")\n",
    "            in_set = np.append(in_set, target_idx)\n",
    "            \n",
    "\n",
    "    return in_set"
   ]
  },
  {
   "cell_type": "code",
   "execution_count": 306,
   "metadata": {},
   "outputs": [
    {
     "name": "stdout",
     "output_type": "stream",
     "text": [
      "\n",
      "check 14\n",
      "\n",
      "check 13\n",
      "\n",
      "check 44\n",
      "\n",
      "check 95\n",
      "\n",
      "check 77\n",
      "\n",
      "check 42\n",
      "\n",
      "check 32\n",
      "\n",
      "check 49\n",
      "\n",
      "check 54\n",
      "\n",
      "check 31\n",
      "\n",
      "check 53\n",
      "\n",
      "check 62\n",
      "\n",
      "check 23\n",
      "\n",
      "check 3\n",
      "\n",
      "check 37\n",
      "\n",
      "check 64\n",
      "\n",
      "check 65\n",
      "\n",
      "check 85\n",
      "\n",
      "check 25\n",
      "\n",
      "check 56\n",
      "\n",
      "check 47\n",
      "\n",
      "check 84\n",
      "\n",
      "check 16\n",
      "\n",
      "check 69\n",
      "\n",
      "check 41\n",
      "\n",
      "check 33\n",
      "\n",
      "check 1\n",
      "\n",
      "check 96\n",
      "\n",
      "check 63\n",
      "\n",
      "check 4\n",
      "\n",
      "check 34\n",
      "\n",
      "check 72\n",
      "\n",
      "check 7\n",
      "\n",
      "check 67\n",
      "\n",
      "check 29\n",
      "\n",
      "check 76\n",
      "\n",
      "check 2\n",
      "\n",
      "check 6\n",
      "\n",
      "check 75\n",
      "\n",
      "check 38\n",
      "\n",
      "check 90\n",
      "\n",
      "check 27\n",
      "\n",
      "check 89\n",
      "\n",
      "check 10\n",
      "\n",
      "check 81\n",
      "\n",
      "check 9\n",
      "\n",
      "check 45\n",
      "\n",
      "check 79\n",
      "\n",
      "check 93\n",
      "\n",
      "check 58\n",
      "\n",
      "check 59\n",
      "\n",
      "check 61\n",
      "\n",
      "check 70\n",
      "\n",
      "check 22\n",
      "\n",
      "check 50\n",
      "\n",
      "check 36\n",
      "\n",
      "check 68\n",
      "\n",
      "check 51\n",
      "\n",
      "check 92\n",
      "\n",
      "check 88\n",
      "\n",
      "check 11\n",
      "\n",
      "check 48\n",
      "\n",
      "check 91\n",
      "\n",
      "check 12\n",
      "\n",
      "check 39\n",
      "\n",
      "check 28\n",
      "\n",
      "check 74\n",
      "\n",
      "check 78\n",
      "\n",
      "check 86\n",
      "\n",
      "check 73\n",
      "\n",
      "check 35\n",
      "\n",
      "check 26\n",
      "\n",
      "check 99\n",
      "\n",
      "check 24\n",
      "\n",
      "check 66\n",
      "\n",
      "check 18\n",
      "\n",
      "check 0\n",
      "\n",
      "check 97\n",
      "\n",
      "check 21\n",
      "\n",
      "check 55\n",
      "\n",
      "check 17\n",
      "\n",
      "check 46\n",
      "\n",
      "check 87\n",
      "\n",
      "check 82\n",
      "\n",
      "check 52\n",
      "\n",
      "check 40\n",
      "\n",
      "check 80\n",
      "\n",
      "check 20\n",
      "\n",
      "check 15\n",
      "\n",
      "check 30\n",
      "Time taken to execute inclusion: 0.00023102760314941406 seconds\n"
     ]
    }
   ],
   "source": [
    "start_include = tm.time()\n",
    "res = inclusion_phase(removed, included, G_0)\n",
    "print(f\"Time taken to execute inclusion: {tm.time() - start_include} seconds\")"
   ]
  },
  {
   "cell_type": "code",
   "execution_count": 307,
   "metadata": {},
   "outputs": [
    {
     "name": "stdout",
     "output_type": "stream",
     "text": [
      "Set of clique vertices after removal phase: [ 5  8 19 43 57 60 71 83 94 98]\n",
      "\n",
      "Set of clique vertices after inclusion phase: [ 5  8 19 43 57 60 71 83 94 98]\n"
     ]
    }
   ],
   "source": [
    "print(f\"Set of clique vertices after removal phase: {np.sort(included)}\\n\")\n",
    "print(f\"Set of clique vertices after inclusion phase: {np.sort(res)}\")"
   ]
  }
 ],
 "metadata": {
  "kernelspec": {
   "display_name": "Python 3.10.1 64-bit",
   "language": "python",
   "name": "python3"
  },
  "language_info": {
   "codemirror_mode": {
    "name": "ipython",
    "version": 3
   },
   "file_extension": ".py",
   "mimetype": "text/x-python",
   "name": "python",
   "nbconvert_exporter": "python",
   "pygments_lexer": "ipython3",
   "version": "3.10.1"
  },
  "vscode": {
   "interpreter": {
    "hash": "aee8b7b246df8f9039afb4144a1f6fd8d2ca17a180786b69acc140d282b71a49"
   }
  }
 },
 "nbformat": 4,
 "nbformat_minor": 0
}
