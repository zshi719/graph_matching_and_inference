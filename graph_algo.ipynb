{
 "cells": [
  {
   "cell_type": "code",
   "execution_count": 216,
   "metadata": {
    "collapsed": false
   },
   "outputs": [],
   "source": [
    "%matplotlib inline\n",
    "import matplotlib.pyplot as plt\n",
    "from itertools import combinations\n",
    "from random import random\n",
    "import numpy as np"
   ]
  },
  {
   "cell_type": "code",
   "execution_count": 217,
   "metadata": {
    "collapsed": false
   },
   "outputs": [],
   "source": [
    "# def ER(n, p):\n",
    "#     V = set([v for v in range(n)])\n",
    "#     E = set()\n",
    "#     for combination in combinations(V, 2):\n",
    "#         a = random()\n",
    "#         if a < p:\n",
    "#             E.add(combination)\n",
    "\n",
    "#     g = nx.Graph()\n",
    "#     g.add_nodes_from(V)\n",
    "#     g.add_edges_from(E)\n",
    "\n",
    "#     return g\n",
    "# p = 0.4\n",
    "# G = ER(n, p)\n",
    "# pos = nx.spring_layout(G)\n",
    "# nx.draw_networkx(G, pos)\n",
    "# plt.title(\"Random Graph Generation Example\")\n",
    "# plt.show()"
   ]
  },
  {
   "cell_type": "code",
   "execution_count": 218,
   "metadata": {},
   "outputs": [
    {
     "data": {
      "text/plain": [
       "(3, 3, 3)"
      ]
     },
     "execution_count": 218,
     "metadata": {},
     "output_type": "execute_result"
    }
   ],
   "source": [
    "x = np.array([[[1, 2, 3],\n",
    "               [4, 5, 6],\n",
    "               [7, 8, 9]],\n",
    "              [[-1, -2, -3],\n",
    "               [-4, -5, -6],\n",
    "               [-7, -8, -9]],\n",
    "               [[1, 2, 3],\n",
    "               [4, 5, 6],\n",
    "               [7, 8, 9]]])\n",
    "x.shape"
   ]
  },
  {
   "cell_type": "code",
   "execution_count": 219,
   "metadata": {},
   "outputs": [
    {
     "data": {
      "text/plain": [
       "array([ 1,  2,  3,  4,  5,  6,  7,  8,  9, -1, -2, -3, -4, -5, -6, -7, -8,\n",
       "       -9,  1,  2,  3,  4,  5,  6,  7,  8,  9])"
      ]
     },
     "execution_count": 219,
     "metadata": {},
     "output_type": "execute_result"
    }
   ],
   "source": [
    "y = x.ravel() # flatten out to a 1D array\n",
    "y"
   ]
  },
  {
   "cell_type": "code",
   "execution_count": 220,
   "metadata": {},
   "outputs": [
    {
     "name": "stdout",
     "output_type": "stream",
     "text": [
      "-7\n"
     ]
    },
    {
     "data": {
      "text/plain": [
       "15"
      ]
     },
     "execution_count": 220,
     "metadata": {},
     "output_type": "execute_result"
    }
   ],
   "source": [
    "print(x[1,2,0])\n",
    "lin_index = np.where(y == x[1,2,0])\n",
    "lin_index[0][0]"
   ]
  },
  {
   "cell_type": "code",
   "execution_count": 221,
   "metadata": {},
   "outputs": [],
   "source": [
    "def find_lin_ind(i, j, k, n):\n",
    "    return (i * n ** 2 + j * n + k)"
   ]
  },
  {
   "cell_type": "code",
   "execution_count": 222,
   "metadata": {
    "collapsed": false
   },
   "outputs": [],
   "source": [
    "#\n",
    "# Generate n-dimensional tensor\n",
    "#\n",
    "# # n = 3\n",
    "# row = np.array([0 for i in range(0, n)])\n",
    "# # row\n",
    "# x = np.array([np.array([row for i in range(n)]) for i in range(n)])\n",
    "# x\n"
   ]
  },
  {
   "cell_type": "code",
   "execution_count": 223,
   "metadata": {},
   "outputs": [],
   "source": [
    "# g: tensor\n",
    "# n: rank of the tensor\n",
    "# p: probability of creating edges\n",
    "def generate_graph(n, p):\n",
    "    # Generate n-dimensional tensor\n",
    "    # row = np.array([0 for i in range(0, n)])\n",
    "    g = np.array([np.array([np.array([0 for i in range(0, n)]) for i in range(n)]) for i in range(n)])\n",
    "\n",
    "    # generate 1-by-n^3 vector to track every node; 1 if included in a graph\n",
    "    vec = g.ravel()\n",
    "    print(vec)\n",
    "\n",
    "    # Set edges\n",
    "    for i in range(n):\n",
    "        for j in range(n):\n",
    "            for k in range(n):\n",
    "                a = np.random.rand()\n",
    "                # print(a)\n",
    "                if a < p:\n",
    "                    g[i, j, k] = 1\n",
    "                    print(g)\n",
    "                    vec[find_lin_ind(i, j, k, n)] += 1\n",
    "                    print(vec)\n",
    "                    g[i, k, j] = 1\n",
    "                    vec[find_lin_ind(i, k, j, n)] += 1\n",
    "                    g[j, i, k] = 1\n",
    "                    vec[find_lin_ind(j, i, k,n)] += 1\n",
    "                    g[j, k, i] = 1\n",
    "                    vec[find_lin_ind(j, k, i, n)] += 1\n",
    "                    g[k, i, j] = 1\n",
    "                    vec[find_lin_ind(k, i, j, n)] += 1\n",
    "                    g[k, j, i] = 1\n",
    "                    vec[find_lin_ind(k, j, i, n)] += 1\n",
    "    return g, vec"
   ]
  },
  {
   "cell_type": "code",
   "execution_count": 224,
   "metadata": {},
   "outputs": [
    {
     "name": "stdout",
     "output_type": "stream",
     "text": [
      "[0 0 0 0 0 0 0 0 0 0 0 0 0 0 0 0 0 0 0 0 0 0 0 0 0 0 0]\n",
      "[[[0 0 0]\n",
      "  [0 0 0]\n",
      "  [0 1 0]]\n",
      "\n",
      " [[0 0 0]\n",
      "  [0 0 0]\n",
      "  [0 0 0]]\n",
      "\n",
      " [[0 0 0]\n",
      "  [0 0 0]\n",
      "  [0 0 0]]]\n",
      "[0 0 0 0 0 0 0 2 0 0 0 0 0 0 0 0 0 0 0 0 0 0 0 0 0 0 0]\n",
      "[[[0 0 0]\n",
      "  [0 0 2]\n",
      "  [0 2 0]]\n",
      "\n",
      " [[1 0 2]\n",
      "  [0 0 0]\n",
      "  [2 0 0]]\n",
      "\n",
      " [[0 2 0]\n",
      "  [2 0 0]\n",
      "  [0 0 0]]]\n",
      "[0 0 0 0 0 2 0 2 0 2 0 2 0 0 0 2 0 0 0 2 0 2 0 0 0 0 0]\n",
      "[[[0 2 0]\n",
      "  [2 0 2]\n",
      "  [0 2 0]]\n",
      "\n",
      " [[2 1 2]\n",
      "  [0 0 0]\n",
      "  [2 0 0]]\n",
      "\n",
      " [[0 2 0]\n",
      "  [2 0 0]\n",
      "  [0 0 0]]]\n",
      "[0 2 0 2 0 2 0 2 0 2 2 2 0 0 0 2 0 0 0 2 0 2 0 0 0 0 0]\n",
      "[[[0 2 0]\n",
      "  [2 2 2]\n",
      "  [0 2 0]]\n",
      "\n",
      " [[2 2 2]\n",
      "  [2 0 1]\n",
      "  [2 0 0]]\n",
      "\n",
      " [[0 2 0]\n",
      "  [2 0 0]\n",
      "  [0 0 0]]]\n",
      "[0 2 0 2 2 2 0 2 0 2 2 2 2 0 2 2 0 0 0 2 0 2 0 0 0 0 0]\n",
      "[[[0 2 0]\n",
      "  [2 2 2]\n",
      "  [0 2 0]]\n",
      "\n",
      " [[2 2 2]\n",
      "  [2 0 2]\n",
      "  [1 2 0]]\n",
      "\n",
      " [[0 2 0]\n",
      "  [2 2 0]\n",
      "  [0 0 0]]]\n",
      "[0 2 0 2 2 2 0 2 0 2 2 2 2 0 2 2 2 0 0 2 0 2 2 0 0 0 0]\n",
      "[[[0 2 0]\n",
      "  [2 2 2]\n",
      "  [0 2 0]]\n",
      "\n",
      " [[2 2 2]\n",
      "  [2 0 2]\n",
      "  [2 1 0]]\n",
      "\n",
      " [[0 2 0]\n",
      "  [2 2 0]\n",
      "  [0 0 0]]]\n",
      "[0 2 0 2 2 2 0 2 0 2 2 2 2 0 2 2 2 0 0 2 0 2 2 0 0 0 0]\n",
      "[[[0 2 0]\n",
      "  [2 2 2]\n",
      "  [0 2 0]]\n",
      "\n",
      " [[2 2 2]\n",
      "  [2 0 2]\n",
      "  [2 2 1]]\n",
      "\n",
      " [[0 2 0]\n",
      "  [2 2 0]\n",
      "  [0 0 0]]]\n",
      "[0 2 0 2 2 2 0 2 0 2 2 2 2 0 2 2 2 2 0 2 0 2 2 0 0 0 0]\n",
      "[[[0 2 0]\n",
      "  [2 2 2]\n",
      "  [0 2 0]]\n",
      "\n",
      " [[2 2 2]\n",
      "  [2 0 2]\n",
      "  [2 2 2]]\n",
      "\n",
      " [[1 2 0]\n",
      "  [2 2 2]\n",
      "  [0 2 0]]]\n",
      "[0 2 0 2 2 2 0 2 0 2 2 2 2 0 2 2 2 2 2 2 0 2 2 2 0 2 0]\n",
      "[[[0 2 2]\n",
      "  [2 2 2]\n",
      "  [2 2 0]]\n",
      "\n",
      " [[2 2 2]\n",
      "  [2 0 2]\n",
      "  [2 2 2]]\n",
      "\n",
      " [[2 1 0]\n",
      "  [2 2 2]\n",
      "  [0 2 0]]]\n",
      "[0 2 2 2 2 2 2 2 0 2 2 2 2 0 2 2 2 2 2 2 0 2 2 2 0 2 0]\n",
      "[[[0 2 2]\n",
      "  [2 2 2]\n",
      "  [2 2 0]]\n",
      "\n",
      " [[2 2 2]\n",
      "  [2 0 2]\n",
      "  [2 2 2]]\n",
      "\n",
      " [[2 2 1]\n",
      "  [2 2 2]\n",
      "  [0 2 0]]]\n",
      "[0 2 2 2 2 2 2 2 0 2 2 2 2 0 2 2 2 2 2 2 2 2 2 2 0 2 0]\n",
      "[[[0 2 2]\n",
      "  [2 2 2]\n",
      "  [2 2 2]]\n",
      "\n",
      " [[2 2 2]\n",
      "  [2 0 2]\n",
      "  [2 2 2]]\n",
      "\n",
      " [[2 2 2]\n",
      "  [1 2 2]\n",
      "  [2 2 0]]]\n",
      "[0 2 2 2 2 2 2 2 2 2 2 2 2 0 2 2 2 2 2 2 2 2 2 2 2 2 0]\n",
      "[[[0 2 2]\n",
      "  [2 2 2]\n",
      "  [2 2 2]]\n",
      "\n",
      " [[2 2 2]\n",
      "  [2 0 2]\n",
      "  [2 2 2]]\n",
      "\n",
      " [[2 2 2]\n",
      "  [2 2 2]\n",
      "  [1 2 0]]]\n",
      "[0 2 2 2 2 2 2 2 2 2 2 2 2 0 2 2 2 2 2 2 2 2 2 2 2 2 0]\n"
     ]
    },
    {
     "data": {
      "text/plain": [
       "array([[[0, 2, 2],\n",
       "        [2, 2, 2],\n",
       "        [2, 2, 2]],\n",
       "\n",
       "       [[2, 2, 2],\n",
       "        [2, 0, 2],\n",
       "        [2, 2, 2]],\n",
       "\n",
       "       [[2, 2, 2],\n",
       "        [2, 2, 2],\n",
       "        [2, 2, 0]]])"
      ]
     },
     "execution_count": 224,
     "metadata": {},
     "output_type": "execute_result"
    }
   ],
   "source": [
    "n = 3\n",
    "p = 0.5\n",
    "res = generate_graph(3, 0.5)\n",
    "G = res[0]\n",
    "G"
   ]
  },
  {
   "cell_type": "code",
   "execution_count": 225,
   "metadata": {},
   "outputs": [
    {
     "data": {
      "text/plain": [
       "array([0, 2, 2, 2, 2, 2, 2, 2, 2, 2, 2, 2, 2, 0, 2, 2, 2, 2, 2, 2, 2, 2,\n",
       "       2, 2, 2, 2, 0])"
      ]
     },
     "execution_count": 225,
     "metadata": {},
     "output_type": "execute_result"
    }
   ],
   "source": [
    "vec = res[1]\n",
    "vec\n"
   ]
  }
 ],
 "metadata": {
  "kernelspec": {
   "display_name": "Python 3.10.1 64-bit",
   "language": "python",
   "name": "python3"
  },
  "language_info": {
   "codemirror_mode": {
    "name": "ipython",
    "version": 3
   },
   "file_extension": ".py",
   "mimetype": "text/x-python",
   "name": "python",
   "nbconvert_exporter": "python",
   "pygments_lexer": "ipython3",
   "version": "3.10.1"
  },
  "vscode": {
   "interpreter": {
    "hash": "aee8b7b246df8f9039afb4144a1f6fd8d2ca17a180786b69acc140d282b71a49"
   }
  }
 },
 "nbformat": 4,
 "nbformat_minor": 0
}
