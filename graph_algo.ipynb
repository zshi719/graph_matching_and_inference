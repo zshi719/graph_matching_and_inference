{
 "cells": [
  {
   "cell_type": "markdown",
   "source": [
    "A model on $n$ vertices with order $d$.\n",
    "$K$ vertices forming a clique, meaning that any size-d tuple within the clique is connected by a hyperedge.\n",
    "All other size-$d$ tuples form a hyperedge with probability $q = 1/2$ ."
   ],
   "metadata": {
    "collapsed": false
   }
  },
  {
   "cell_type": "code",
   "execution_count": 876,
   "metadata": {
    "collapsed": false
   },
   "outputs": [],
   "source": [
    "import math\n",
    "import time as tm\n",
    "from itertools import permutations\n",
    "\n",
    "import numpy as np"
   ]
  },
  {
   "cell_type": "code",
   "execution_count": 877,
   "metadata": {},
   "outputs": [],
   "source": [
    "# set the degree of each vertex on graph to 1\n",
    "# def add_allll(i, j, k, g):\n",
    "#     g[np.array(list(set(permutations([i, j, k]))))] = 1\n",
    "#     return g\n",
    "\n",
    "# increment the degree of each vertex on graph g by 1\n",
    "def add_all(i, j, k, g):\n",
    "    g[i, j, k] = 1\n",
    "    g[i, k, j] = 1\n",
    "    g[j, i, k] = 1\n",
    "    g[j, k, i] = 1\n",
    "    g[k, i, j] = 1\n",
    "    g[k, j, i] = 1\n",
    "    return g\n",
    "\n",
    "\n",
    "# set the degree of each vertex on graph g to 0\n",
    "# def remove_all(i, j, k, g):\n",
    "#     g[np.array(list(set(permutations([i, j, k]))))] = 0\n",
    "#     return g\n",
    "\n",
    "# decrement the degree of each vertex on graph g to 0\n",
    "def remove_all(i, j, k, g):\n",
    "    g[i, j, k] = 0\n",
    "    g[i, k, j] = 0\n",
    "    g[j, i, k] = 0\n",
    "    g[j, k, i] = 0\n",
    "    g[k, i, j] = 0\n",
    "    g[k, j, i] = 0\n",
    "    return g"
   ]
  },
  {
   "cell_type": "code",
   "execution_count": 878,
   "metadata": {},
   "outputs": [],
   "source": [
    "### create a graph with planted clique\n",
    "\n",
    "# g: graph (represented as a tensor)\n",
    "# num_vertices: number of vertices on the graph (dimension, or rank of the tensor) \n",
    "# pr: probability of creating edges\n",
    "# clq_size: clique size\n",
    "\n",
    "def generate_graph(num_vertices, pr, clq_size):\n",
    "    def create_edges():\n",
    "        for i in range(num_vertices):\n",
    "            for j in range(i + 1, num_vertices):\n",
    "                for k in range(j + 1, num_vertices):\n",
    "                    if np.random.uniform(0, 1, 1) < pr:\n",
    "                        vec[[i, j, k]] += 1\n",
    "                        add_all(i, j, k, g)\n",
    "\n",
    "    def plant_clique():\n",
    "        for i in range(clq_size):\n",
    "            for j in range(i + 1, clq_size):\n",
    "                for k in range(j + 1, clq_size):\n",
    "                    vec[[clq_vertex[i], clq_vertex[j], clq_vertex[k]]] += 1\n",
    "                    add_all(clq_vertex[i], clq_vertex[j], clq_vertex[k], g)\n",
    "\n",
    "    g = np.zeros((num_vertices, num_vertices, num_vertices))\n",
    "    vec = np.zeros(num_vertices, )\n",
    "    create_edges()\n",
    "    clq_vertex = np.random.choice(range(num_vertices), clq_size, replace=False)\n",
    "    plant_clique()\n",
    "\n",
    "    return g, vec, clq_vertex"
   ]
  },
  {
   "cell_type": "code",
   "execution_count": 879,
   "metadata": {
    "collapsed": false
   },
   "outputs": [],
   "source": [
    "# calculate the total number of edges on a graph with num_vertices vertices\n",
    "def count_edge(g, num_vertices):\n",
    "    num_edges = 0\n",
    "    for i in range(num_vertices):\n",
    "        for j in range(i + 1, num_vertices):\n",
    "            for k in range(j + 1, num_vertices):\n",
    "                if g[i, j, k] == 1:\n",
    "                    num_edges += 1\n",
    "    return num_edges"
   ]
  },
  {
   "cell_type": "code",
   "execution_count": 880,
   "metadata": {},
   "outputs": [],
   "source": [
    "# check if the graph is a clique\n",
    "def is_clique(g, vec, num_vertices):\n",
    "    active_count = np.count_nonzero(vec)  # number of vertices that are associated with at least 1 edge\n",
    "    edge_sum = count_edge(g, num_vertices)  # number of edges\n",
    "    return edge_sum == math.comb(active_count, 3)"
   ]
  },
  {
   "cell_type": "code",
   "execution_count": 881,
   "metadata": {},
   "outputs": [],
   "source": [
    "# remove edge\n",
    "def remove_edges(g, num_vertices, vec, curr_idx):\n",
    "    vec[curr_idx] = 0\n",
    "    for j in range(0, num_vertices):\n",
    "        for k in range(0, num_vertices):\n",
    "            if g[curr_idx, j, k] == 1:\n",
    "                vec[[j, k]] -= 1\n",
    "                remove_all(curr_idx, j, k, g)\n",
    "    return g, vec"
   ]
  },
  {
   "cell_type": "markdown",
   "metadata": {},
   "source": [
    "### Generate a graph\n",
    "N: number of vertices\n",
    "P: probability of an edge being included\n",
    "K: clique size\n",
    "\n",
    "G: graph with planted clique\n",
    "V: vector storing the number of edges associated with each vertex in the graph\n",
    "clique_vertices: the set of clique vertices"
   ]
  },
  {
   "cell_type": "code",
   "execution_count": 882,
   "metadata": {
    "collapsed": false
   },
   "outputs": [
    {
     "name": "stdout",
     "output_type": "stream",
     "text": [
      "edge-occurrence vector: [2384. 2407. 2405. 2514. 2512. 2493. 2465. 2409. 2419. 2373. 2494. 2444.\n",
      " 2445. 2439. 2350. 2457. 2490. 2429. 2476. 2412. 2428. 2385. 2409. 2455.\n",
      " 2453. 2407. 2392. 2375. 2437. 2454. 2456. 2437. 2402. 2366. 2412. 2441.\n",
      " 2409. 2398. 2467. 2466. 2436. 2401. 2415. 2389. 2353. 2383. 2466. 2473.\n",
      " 2443. 2399. 2453. 2390. 2435. 2407. 2432. 2424. 2382. 2387. 2465. 2444.\n",
      " 2488. 2419. 2433. 2419. 2386. 2455. 2380. 2418. 2437. 2406. 2482. 2462.\n",
      " 2441. 2444. 2397. 2476. 2483. 2421. 2431. 2521. 2389. 2447. 2442. 2444.\n",
      " 2348. 2411. 2433. 2470. 2368. 2382. 2468. 2373. 2465. 2457. 2427. 2465.\n",
      " 2444. 2467. 2424. 2410.]\n",
      "\n",
      "set of clique vertices after generation phase: [79 76 64  2 67  3 60  5 15 19]\n",
      "\n"
     ]
    }
   ],
   "source": [
    "N = 100  # number of vertices\n",
    "P = 0.5  # probability of an edge being included\n",
    "K = 10  # clique size\n",
    "\n",
    "start_generate = tm.time()\n",
    "res = generate_graph(N, P, K)\n",
    "G, V, clique_vertices = res[0], res[1], res[-1]\n",
    "G_0 = G.copy()\n",
    "\n",
    "print(f\"edge-occurrence vector: {V}\\n\")\n",
    "print(f\"set of clique vertices after generation phase: {clique_vertices}\\n\")\n",
    "\n",
    "time_generate = np.round(tm.time() - start_generate, 3)\n",
    "# print(\"Time taken to generate graph: \", \"seconds\")"
   ]
  },
  {
   "cell_type": "markdown",
   "metadata": {},
   "source": [
    "### Removal Phase"
   ]
  },
  {
   "cell_type": "code",
   "execution_count": 883,
   "metadata": {},
   "outputs": [
    {
     "name": "stdout",
     "output_type": "stream",
     "text": [
      "is a clique at iteration #91!!!\n"
     ]
    }
   ],
   "source": [
    "start_removal = tm.time()\n",
    "itr = 0\n",
    "removed = []  # keep track of the vertices removed from the original graph to form a clique\n",
    "\n",
    "while not is_clique(G, V, N):\n",
    "    itr += 1\n",
    "    curr = -1\n",
    "    idx_sorted = np.argsort(V)\n",
    "\n",
    "    for idx in range(N):\n",
    "        if V[idx_sorted[idx]] != 0:\n",
    "            curr = idx_sorted[idx]\n",
    "            removed.append(curr)\n",
    "            break\n",
    "\n",
    "    A = remove_edges(G, N, V, curr)\n",
    "    G = A[0]\n",
    "\n",
    "print(f\"is a clique at iteration #{itr}!!!\")\n",
    "time_remove = np.round(tm.time() - start_removal, 3)"
   ]
  },
  {
   "cell_type": "code",
   "execution_count": 884,
   "metadata": {},
   "outputs": [
    {
     "name": "stdout",
     "output_type": "stream",
     "text": [
      "number of iterations in the removal phase: 91\n"
     ]
    }
   ],
   "source": [
    "print(f\"number of iterations in the removal phase: {itr}\")"
   ]
  },
  {
   "cell_type": "code",
   "execution_count": 885,
   "outputs": [],
   "source": [
    "included = np.setdiff1d(np.arange(N), removed)\n",
    "# included"
   ],
   "metadata": {
    "collapsed": false
   }
  },
  {
   "cell_type": "markdown",
   "source": [
    "### Inclusion Phase"
   ],
   "metadata": {
    "collapsed": false
   }
  },
  {
   "cell_type": "code",
   "execution_count": 886,
   "metadata": {},
   "outputs": [],
   "source": [
    "def inclusion_phase(target, in_set, g):\n",
    "    def connected():\n",
    "        for j in range(len(in_set)):\n",
    "            for k in range(j + 1, len(in_set)):\n",
    "                if g[target_idx, in_set[j], in_set[k]] != 1:\n",
    "                    # print(f\" vertex {idx} is not connected to all clique vertices\")\n",
    "                    return False\n",
    "        return True\n",
    "\n",
    "    for target_idx in target:\n",
    "        if connected():\n",
    "            print(f\"add {target_idx} to clique!\")\n",
    "            in_set = np.append(in_set, target_idx)\n",
    "            print(in_set)\n",
    "\n",
    "    return in_set"
   ]
  },
  {
   "cell_type": "code",
   "execution_count": 887,
   "metadata": {},
   "outputs": [
    {
     "name": "stdout",
     "output_type": "stream",
     "text": [
      "add 64 to clique!\n",
      "[ 2  3  5 15 19 60 67 76 79 64]\n"
     ]
    }
   ],
   "source": [
    "start_include = tm.time()\n",
    "res = inclusion_phase(removed, included, G_0)\n",
    "time_include = np.round(tm.time() - start_include, 3)"
   ]
  },
  {
   "cell_type": "code",
   "execution_count": 888,
   "metadata": {},
   "outputs": [
    {
     "name": "stdout",
     "output_type": "stream",
     "text": [
      "Set of clique vertices after generation phase: [ 2  3  5 15 19 60 64 67 76 79]\n",
      "\n",
      "Set of clique vertices after removal phase: [ 2  3  5 15 19 60 67 76 79]\n",
      "\n",
      "Set of clique vertices after inclusion phase: [ 2  3  5 15 19 60 64 67 76 79]\n"
     ]
    }
   ],
   "source": [
    "print(f\"Set of clique vertices after generation phase: {np.sort(clique_vertices)}\\n\")\n",
    "print(f\"Set of clique vertices after removal phase: {np.sort(included)}\\n\")\n",
    "print(f\"Set of clique vertices after inclusion phase: {np.sort(res)}\")"
   ]
  }
 ],
 "metadata": {
  "kernelspec": {
   "display_name": "Python 3.10.1 64-bit",
   "language": "python",
   "name": "python3"
  },
  "language_info": {
   "codemirror_mode": {
    "name": "ipython",
    "version": 3
   },
   "file_extension": ".py",
   "mimetype": "text/x-python",
   "name": "python",
   "nbconvert_exporter": "python",
   "pygments_lexer": "ipython3",
   "version": "3.10.1"
  },
  "vscode": {
   "interpreter": {
    "hash": "aee8b7b246df8f9039afb4144a1f6fd8d2ca17a180786b69acc140d282b71a49"
   }
  }
 },
 "nbformat": 4,
 "nbformat_minor": 0
}
