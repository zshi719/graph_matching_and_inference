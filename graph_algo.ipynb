{
 "cells": [
  {
   "cell_type": "markdown",
   "source": [
    "# Finding Planted Clique in Hypergraphs\n",
    "\n",
    "Efficient recovery of planted cliques in hypergraphs.\n",
    "A model on $n$ vertices with order $d$.\n",
    "$K$ vertices forming a clique, meaning that any size-d tuple within the clique is connected by a hyperedge.\n",
    "All other size-$d$ tuples form a hyperedge with probability $q = 1/2$ ."
   ],
   "metadata": {
    "collapsed": false
   }
  },
  {
   "cell_type": "code",
   "execution_count": 227,
   "metadata": {
    "collapsed": false
   },
   "outputs": [],
   "source": [
    "from itertools import permutations\n",
    "import math\n",
    "import time as tm\n",
    "\n",
    "import numpy as np"
   ]
  },
  {
   "cell_type": "code",
   "execution_count": 228,
   "metadata": {},
   "outputs": [],
   "source": [
    "# set the degree of each vertex on graph to 1\n",
    "def add_all(i, j, k, g):\n",
    "    g[np.asarray(list(set(permutations([i,j,k]))))] = 1\n",
    "    # g[i, j, k] = 1\n",
    "    # g[i, k, j] = 1\n",
    "    # g[j, i, k] = 1\n",
    "    # g[j, k, i] = 1\n",
    "    # g[k, i, j] = 1\n",
    "    # g[k, j, i] = 1\n",
    "    return g"
   ]
  },
  {
   "cell_type": "code",
   "execution_count": 229,
   "metadata": {},
   "outputs": [],
   "source": [
    "# set the degree of each vertex on graph g to 0\n",
    "def remove_all(i, j, k, g):\n",
    "    g[np.asarray(list(set(permutations([i,j,k]))))] = 0\n",
    "    # g[i, j, k] = 0\n",
    "    # g[i, k, j] = 0\n",
    "    # g[j, i, k] = 0\n",
    "    # g[j, k, i] = 0\n",
    "    # g[k, i, j] = 0\n",
    "    # g[k, j, i] = 0\n",
    "    return g\n"
   ]
  },
  {
   "cell_type": "code",
   "execution_count": 230,
   "outputs": [],
   "source": [
    "# # improvement\n",
    "# ll = [1,2,0]\n",
    "# # ind = np.asarray(list(set(permutations(ll))))\n",
    "# # ind\n",
    "# #\n",
    "# g = np.zeros((4,4,4))\n",
    "# # g[ind] = 1\n",
    "# # g\n",
    "# g[np.asarray(list(set(permutations(ll))))] = 1\n",
    "# g"
   ],
   "metadata": {
    "collapsed": false
   }
  },
  {
   "cell_type": "code",
   "execution_count": 230,
   "outputs": [],
   "source": [],
   "metadata": {
    "collapsed": false
   }
  },
  {
   "cell_type": "code",
   "execution_count": 231,
   "metadata": {},
   "outputs": [],
   "source": [
    "### create a graph with planted clique\n",
    "\n",
    "# g: graph (represented as a tensor)\n",
    "# num_vertices: number of vertices on the graph (dimension, or rank of the tensor) \n",
    "# pr: probability of creating edges\n",
    "# clique_size: clique size\n",
    "\n",
    "def generate_graph(num_vertices, pr, clique_size):\n",
    "    def plant_clique():\n",
    "        # print('\\nHERE\\n')\n",
    "        for ii in range(clique_size):\n",
    "            for jj in range(ii + 1, clique_size):\n",
    "                for kk in range(jj + 1, clique_size):\n",
    "                    # aa = clique_v[ii]\n",
    "                    # print('\\n******',aa, vec[aa])\n",
    "                    # vec[clique_v[ii]] += 1\n",
    "                    # bb = clique_v[jj]\n",
    "                    # print('\\n******',bb, vec[bb] )\n",
    "                    # vec[clique_v[jj]] += 1\n",
    "                    # cc = clique_v[kk]\n",
    "                    # print('\\n******',cc, vec[cc])\n",
    "                    # vec[clique_v[kk]] += 1\n",
    "                    idx_list = [clique_v[ii],clique_v[jj],clique_v[kk]]\n",
    "                    vec = [vec[idx] + 1 for idx in idx_list]\n",
    "                    add_all(clique_v[ii], clique_v[jj], clique_v[kk], g)\n",
    "\n",
    "    # g = np.array([np.array([np.array([0 for _ in range(0, num_vertices)]) for _ in range(num_vertices)]) for _ in\n",
    "    #               range(num_vertices)])\n",
    "    g = np.zeros((num_vertices, num_vertices, num_vertices))\n",
    "    # print(f\"\\n******** {g} ********\\n\")\n",
    "    # vec = np.array([0 for _ in range(0, num_vertices)])\n",
    "    vec = np.zeros(num_vertices,)\n",
    "    # print(f\"\\n******** {vec} ********\\n\")\n",
    "\n",
    "    # Set edges\n",
    "    for i in range(num_vertices):\n",
    "        for j in range(i + 1, num_vertices):\n",
    "            for k in range(j + 1, num_vertices):\n",
    "                a = np.random.uniform(0, 1, 1)\n",
    "                # every edge is included independently with probability 1/2\n",
    "                if a < pr:\n",
    "                    vec[i] += 1\n",
    "                    vec[j] += 1\n",
    "                    vec[k] += 1\n",
    "                    add_all(i, j, k, g)\n",
    "\n",
    "    clique_v = np.random.choice(range(num_vertices), clique_size, replace=False)\n",
    "    print(f\"\\n******** {clique_v} ********\\n\")\n",
    "\n",
    "    plant_clique()\n",
    "\n",
    "    return g, vec, clique_v\n"
   ]
  },
  {
   "cell_type": "code",
   "execution_count": 232,
   "metadata": {
    "collapsed": false
   },
   "outputs": [],
   "source": [
    "# calculate the total number of edges on a graph with num_vertices vertices\n",
    "def find_num_edges(g, num_vertices):\n",
    "    num_edges = 0\n",
    "    for i in range(num_vertices):\n",
    "        for j in range(i + 1, num_vertices):\n",
    "            for k in range(j + 1, num_vertices):\n",
    "                if g[i, j, k] == 1:\n",
    "                    num_edges += 1\n",
    "    return num_edges"
   ]
  },
  {
   "cell_type": "code",
   "execution_count": 233,
   "metadata": {},
   "outputs": [],
   "source": [
    "# check if the graph is a clique\n",
    "def is_clique(g, vec, num_vertices):\n",
    "    # active_count: number of vertices that are associated with at least 1 edge\n",
    "    active_count = np.count_nonzero(vec)\n",
    "    # number of edges\n",
    "    edge_sum = find_num_edges(g, num_vertices)\n",
    "    if edge_sum == math.comb(active_count, 3):\n",
    "        return True\n",
    "    return False"
   ]
  },
  {
   "cell_type": "code",
   "execution_count": 234,
   "metadata": {},
   "outputs": [],
   "source": [
    "# remove edge\n",
    "def remove_edges(g, num_vertices, vec, curr_idx):\n",
    "    vec[curr_idx] = 0\n",
    "    graph_copy = g.copy()\n",
    "    for j in range(0, num_vertices):\n",
    "        for k in range(0, num_vertices):\n",
    "            if graph_copy[curr_idx, j, k] == 1:\n",
    "                vec[j] -= 1\n",
    "                vec[k] -= 1\n",
    "                remove_all(curr_idx, j, k, graph_copy)\n",
    "    return graph_copy, vec"
   ]
  },
  {
   "cell_type": "markdown",
   "metadata": {},
   "source": [
    "### Generate a graph\n",
    "n: number of vertices\n",
    "p: probability of an edge being included\n",
    "k: clique size"
   ]
  },
  {
   "cell_type": "code",
   "execution_count": 235,
   "metadata": {
    "collapsed": false
   },
   "outputs": [
    {
     "name": "stdout",
     "output_type": "stream",
     "text": [
      "\n",
      "******** [1 4 2] ********\n",
      "\n",
      "\n",
      "HERE\n",
      "\n",
      "edge-occurrence vector: [3. 4. 3. 3. 5.]\n",
      "\n",
      "set of clique vertices after removal phase: [1 4 2]\n",
      "\n"
     ]
    }
   ],
   "source": [
    "# driver program\n",
    "\n",
    "N = 5  # number of vertices\n",
    "P = 0.5  # probability of an edge being included\n",
    "K = 3  # clique size\n",
    "\n",
    "# generate graph\n",
    "start_generate = tm.time()\n",
    "res = generate_graph(N, P, K)\n",
    "\n",
    "# G graph with planted clique\n",
    "# V: vector storing the number of edges associated with each vertex in the graph\n",
    "# clique_vertices: the set of clique vertices\n",
    "G, V, clique_vertices = res[0], res[1], res[-1]\n",
    "\n",
    "# print(f\"graph: {G}\\n\")\n",
    "G_0 = G.copy()\n",
    "print(f\"edge-occurrence vector: {V}\\n\")\n",
    "print(f\"set of clique vertices after removal phase: {clique_vertices}\\n\")\n",
    "\n",
    "time_generate = np.round(tm.time() - start_generate, 3)\n",
    "# print(\"Time taken to generate graph: \", \"seconds\")\n"
   ]
  },
  {
   "cell_type": "markdown",
   "metadata": {},
   "source": [
    "### Removal Phase"
   ]
  },
  {
   "cell_type": "code",
   "execution_count": 236,
   "metadata": {},
   "outputs": [
    {
     "name": "stdout",
     "output_type": "stream",
     "text": [
      "is a clique at iteration #0!!!\n"
     ]
    }
   ],
   "source": [
    "start_removal = tm.time()\n",
    "itr = 0\n",
    "removed = []  # keep track of the vertices removed from the original graph to form a clique\n",
    "\n",
    "# clique = is_clique(G, V, N)\n",
    "\n",
    "while not is_clique(G, V, N):\n",
    "\n",
    "    itr += 1\n",
    "\n",
    "    curr = -1\n",
    "    idx_sorted = np.argsort(V)\n",
    "\n",
    "    print(f\"i = {itr}\\nindex sorted: {idx_sorted}\\n\")\n",
    "    # print(f\"number of edges associated with each vertex: {V}\")\n",
    "\n",
    "    for idx in range(N):\n",
    "        if V[idx_sorted[idx]] != 0:\n",
    "            curr = idx_sorted[idx]\n",
    "            removed.append(curr)\n",
    "            break\n",
    "    # print(f\"vertex removed: {curr} number of edges: {V[curr]}\\n\")\n",
    "    A = remove_edges(G, N, V, curr)\n",
    "    G = A[0]\n",
    "\n",
    "    clique = is_clique(G, V, N)\n",
    "\n",
    "print(f\"is a clique at iteration #{itr}!!!\")\n",
    "time_remove = np.round(tm.time() - start_removal, 3)"
   ]
  },
  {
   "cell_type": "code",
   "execution_count": 237,
   "metadata": {},
   "outputs": [
    {
     "name": "stdout",
     "output_type": "stream",
     "text": [
      "number of iterations in the removal phase: 0\n"
     ]
    }
   ],
   "source": [
    "print(f\"number of iterations in the removal phase: {itr}\")"
   ]
  },
  {
   "cell_type": "code",
   "execution_count": 238,
   "metadata": {},
   "outputs": [
    {
     "name": "stdout",
     "output_type": "stream",
     "text": [
      "vertices included after the removal phase: [0 1 2 3 4]\n"
     ]
    }
   ],
   "source": [
    "full_vertices = np.arange(N)\n",
    "included = np.setdiff1d(full_vertices, removed)\n",
    "assert len(removed) + len(included) == N\n",
    "print(f\"vertices included after the removal phase: {included}\")"
   ]
  },
  {
   "cell_type": "markdown",
   "source": [
    "### Inclusion Phase"
   ],
   "metadata": {
    "collapsed": false
   }
  },
  {
   "cell_type": "code",
   "execution_count": 239,
   "metadata": {},
   "outputs": [],
   "source": [
    "def inclusion_phase(target, in_set, g):\n",
    "    def connected():\n",
    "        for j in range(len(in_set)):\n",
    "            for k in range(j + 1, len(in_set)):\n",
    "                if g[target_idx, in_set[j], in_set[k]] != 1:\n",
    "                    # print(f\" vertex {idx} is not connected to all clique vertices\")\n",
    "                    return False\n",
    "        return True\n",
    "\n",
    "    for target_idx in target:\n",
    "        if connected():\n",
    "            print(f\"add {target_idx} to clique!\")\n",
    "            in_set = np.append(in_set, idx)\n",
    "\n",
    "    return in_set\n"
   ]
  },
  {
   "cell_type": "code",
   "execution_count": 240,
   "metadata": {},
   "outputs": [],
   "source": [
    "start_include = tm.time()\n",
    "res = inclusion_phase(removed, included, G_0)\n",
    "time_include = np.round(tm.time() - start_include, 3)"
   ]
  },
  {
   "cell_type": "code",
   "execution_count": 241,
   "metadata": {},
   "outputs": [
    {
     "name": "stdout",
     "output_type": "stream",
     "text": [
      "Set of clique vertices after generation phase: [1 2 4]\n",
      "\n",
      "Set of clique vertices after removal phase: [0 1 2 3 4]\n",
      "\n",
      "Set of clique vertices after inclusion phase: [0 1 2 3 4]\n"
     ]
    }
   ],
   "source": [
    "print(f\"Set of clique vertices after generation phase: {np.sort(clique_vertices)}\\n\")\n",
    "print(f\"Set of clique vertices after removal phase: {np.sort(included)}\\n\")\n",
    "# print(f\"set of vertices removed: {removed}, number of elements = {len(removed)}\\n\")\n",
    "print(f\"Set of clique vertices after inclusion phase: {np.sort(res)}\")"
   ]
  }
 ],
 "metadata": {
  "kernelspec": {
   "display_name": "Python 3.10.1 64-bit",
   "language": "python",
   "name": "python3"
  },
  "language_info": {
   "codemirror_mode": {
    "name": "ipython",
    "version": 3
   },
   "file_extension": ".py",
   "mimetype": "text/x-python",
   "name": "python",
   "nbconvert_exporter": "python",
   "pygments_lexer": "ipython3",
   "version": "3.10.1"
  },
  "vscode": {
   "interpreter": {
    "hash": "aee8b7b246df8f9039afb4144a1f6fd8d2ca17a180786b69acc140d282b71a49"
   }
  }
 },
 "nbformat": 4,
 "nbformat_minor": 0
}
