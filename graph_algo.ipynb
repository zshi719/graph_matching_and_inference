{
 "cells": [
  {
   "cell_type": "markdown",
   "metadata": {
    "collapsed": false
   },
   "source": [
    "Finding hidden cliques of size $K$ in a hypergraph on $n$ vertices"
   ]
  },
  {
   "cell_type": "code",
   "execution_count": 76,
   "metadata": {
    "collapsed": false
   },
   "outputs": [],
   "source": [
    "import csv\n",
    "import math\n",
    "import time as tm\n",
    "\n",
    "import numpy as np"
   ]
  },
  {
   "cell_type": "code",
   "execution_count": 77,
   "metadata": {},
   "outputs": [],
   "source": [
    "# increment the degree of each vertex on graph g by 1\n",
    "def add_all(i, j, k, g):\n",
    "    g[i, j, k] = 1\n",
    "    g[i, k, j] = 1\n",
    "    g[j, i, k] = 1\n",
    "    g[j, k, i] = 1\n",
    "    g[k, i, j] = 1\n",
    "    g[k, j, i] = 1\n",
    "    return g\n",
    "\n",
    "# decrement the degree of each vertex on graph g to 0\n",
    "def remove_all(i, j, k, g):\n",
    "    g[i, j, k] = 0\n",
    "    g[i, k, j] = 0\n",
    "    g[j, i, k] = 0\n",
    "    g[j, k, i] = 0\n",
    "    g[k, i, j] = 0\n",
    "    g[k, j, i] = 0\n",
    "    return g"
   ]
  },
  {
   "cell_type": "code",
   "execution_count": 78,
   "metadata": {},
   "outputs": [],
   "source": [
    "##create a graph with planted clique\n",
    "def generate_graph(num_vertices, pr, clq_size):\n",
    "    def create_edges():\n",
    "        for i in range(num_vertices):\n",
    "            for j in range(i + 1, num_vertices):\n",
    "                for k in range(j + 1, num_vertices):\n",
    "                    if np.random.uniform(0, 1, 1) < pr: # probability of creating edges\n",
    "                        vec[[i, j, k]] += 1\n",
    "                        add_all(i, j, k, g)\n",
    "\n",
    "    def plant_clique():\n",
    "        for i in range(clq_size):\n",
    "            for j in range(i + 1, clq_size):\n",
    "                for k in range(j + 1, clq_size):\n",
    "                    vec[[clq_vertex[i], clq_vertex[j], clq_vertex[k]]] += 1\n",
    "                    add_all(clq_vertex[i], clq_vertex[j], clq_vertex[k], g)\n",
    "\n",
    "    g = np.zeros((num_vertices, num_vertices, num_vertices)) # graph on n vertices\n",
    "    vec = np.zeros(num_vertices, ) # edge\n",
    "    create_edges()\n",
    "    clq_vertex = np.random.choice(range(num_vertices), clq_size, replace=False) # randomly choose a given number of clique vertices\n",
    "    plant_clique() # plant a clique to vertices (add edges between every two pairs of vertices)\n",
    "\n",
    "    return g, vec, clq_vertex"
   ]
  },
  {
   "cell_type": "code",
   "execution_count": 79,
   "metadata": {
    "collapsed": false
   },
   "outputs": [],
   "source": [
    "# calculate total number of edges\n",
    "def count_edge(g, num_vertices):\n",
    "    num_edges = 0\n",
    "    for i in range(num_vertices):\n",
    "        for j in range(i + 1, num_vertices):\n",
    "            for k in range(j + 1, num_vertices):\n",
    "                if g[i, j, k] == 1:\n",
    "                    num_edges += 1\n",
    "    return num_edges"
   ]
  },
  {
   "cell_type": "code",
   "execution_count": 80,
   "metadata": {},
   "outputs": [],
   "source": [
    "# check if the graph is a clique\n",
    "def is_clique(g, vec, num_vertices):\n",
    "    active_count = np.count_nonzero(vec)  # number of vertices that are associated with at least 1 edge\n",
    "    edge_sum = count_edge(g, num_vertices)  # number of edges\n",
    "    return edge_sum == math.comb(active_count, 3)"
   ]
  },
  {
   "cell_type": "code",
   "execution_count": 81,
   "metadata": {},
   "outputs": [],
   "source": [
    "# remove edge\n",
    "def remove_edges(g, num_vertices, vec, curr_idx):\n",
    "    vec[curr_idx] = 0\n",
    "    for j in range(0, num_vertices):\n",
    "        for k in range(j+1, num_vertices):\n",
    "            if g[curr_idx, j, k] == 1:\n",
    "                vec[[j, k]] -= 1\n",
    "                remove_all(curr_idx, j, k, g)\n",
    "    return g, vec"
   ]
  },
  {
   "cell_type": "markdown",
   "metadata": {},
   "source": [
    "### Generate a graph"
   ]
  },
  {
   "cell_type": "code",
   "execution_count": 82,
   "metadata": {
    "collapsed": false
   },
   "outputs": [
    {
     "data": {
      "text/plain": [
       "array([18, 38, 15, 22,  9])"
      ]
     },
     "execution_count": 82,
     "metadata": {},
     "output_type": "execute_result"
    }
   ],
   "source": [
    "N = 50  # number of vertices\n",
    "P = 0.5  # probability of an edge being included\n",
    "K = 5  # clique size\n",
    "\n",
    "start_generate = tm.time()\n",
    "res = generate_graph(N, P, K)\n",
    "G, V, planted_clique = res[0], res[1], res[-1] # G: graph V: vector storing the number of edges associated with each vertex\n",
    "G_0 = G.copy()\n",
    "\n",
    "time_generate = np.round(tm.time() - start_generate, 3)\n",
    "planted_clique"
   ]
  },
  {
   "cell_type": "markdown",
   "metadata": {},
   "source": [
    "### Removal Phase"
   ]
  },
  {
   "cell_type": "code",
   "execution_count": 83,
   "metadata": {},
   "outputs": [
    {
     "name": "stdout",
     "output_type": "stream",
     "text": [
      "is a clique at iteration #46!!!\n"
     ]
    }
   ],
   "source": [
    "start_removal = tm.time()\n",
    "itr = 0\n",
    "removed = []  # keep track of the vertices removed from the original graph to form a clique\n",
    "\n",
    "while not is_clique(G, V, N):\n",
    "    itr += 1\n",
    "    curr = -1\n",
    "    idx_sorted = np.argsort(V)\n",
    "\n",
    "    for idx in range(N):\n",
    "        if V[idx_sorted[idx]] != 0:\n",
    "            curr = idx_sorted[idx]\n",
    "            removed.append(curr)\n",
    "            break\n",
    "\n",
    "    A = remove_edges(G, N, V, curr)\n",
    "    \n",
    "    G, V = A[0], A[1]\n",
    "\n",
    "print(f\"is a clique at iteration #{itr}!!!\")\n",
    "time_removal = tm.time() - start_removal"
   ]
  },
  {
   "cell_type": "code",
   "execution_count": 84,
   "metadata": {},
   "outputs": [],
   "source": [
    "# print(f\"number of iterations in the removal phase: {itr}\")"
   ]
  },
  {
   "cell_type": "code",
   "execution_count": 85,
   "metadata": {
    "collapsed": false
   },
   "outputs": [
    {
     "data": {
      "text/plain": [
       "array([14, 17, 22, 38])"
      ]
     },
     "execution_count": 85,
     "metadata": {},
     "output_type": "execute_result"
    }
   ],
   "source": [
    "included = np.setdiff1d(np.arange(N), removed)\n",
    "included"
   ]
  },
  {
   "cell_type": "markdown",
   "metadata": {
    "collapsed": false
   },
   "source": [
    "### Inclusion Phase"
   ]
  },
  {
   "cell_type": "code",
   "execution_count": 86,
   "metadata": {},
   "outputs": [],
   "source": [
    "def inclusion_phase(target, in_set, g):\n",
    "    def connected(): \n",
    "        for j in range(len(in_set)):\n",
    "            for k in range(j + 1, len(in_set)):\n",
    "                if g[target_idx, in_set[j], in_set[k]] != 1:\n",
    "                    return False\n",
    "        return True\n",
    "\n",
    "    for target_idx in target:\n",
    "        if connected():\n",
    "            print(f\"add {target_idx} to clique!\")\n",
    "            in_set = np.append(in_set, target_idx)\n",
    "            \n",
    "\n",
    "    return in_set"
   ]
  },
  {
   "cell_type": "code",
   "execution_count": 87,
   "metadata": {},
   "outputs": [
    {
     "name": "stdout",
     "output_type": "stream",
     "text": [
      "add 39 to clique!\n"
     ]
    }
   ],
   "source": [
    "start_include = tm.time()\n",
    "res = inclusion_phase(removed, included, G_0)\n",
    "\n",
    "time_include = tm.time() - start_include\n",
    "total_run_time = tm.time() - start_generate"
   ]
  },
  {
   "cell_type": "code",
   "execution_count": 88,
   "metadata": {},
   "outputs": [
    {
     "name": "stdout",
     "output_type": "stream",
     "text": [
      "Set of clique vertices after removal phase: [14 17 22 38]\n",
      "\n",
      "Set of clique vertices after inclusion phase: [14 17 22 38 39]\n"
     ]
    }
   ],
   "source": [
    "print(f\"Set of clique vertices after removal phase: {np.sort(included)}\\n\")\n",
    "print(f\"Set of clique vertices after inclusion phase: {np.sort(res)}\")"
   ]
  },
  {
   "cell_type": "code",
   "execution_count": 89,
   "metadata": {},
   "outputs": [
    {
     "data": {
      "text/plain": [
       "(array([18, 38, 15, 22,  9]), array([14, 17, 22, 38, 39]))"
      ]
     },
     "execution_count": 89,
     "metadata": {},
     "output_type": "execute_result"
    }
   ],
   "source": [
    "found = 0\n",
    "if set(planted_clique) ==  set(res):\n",
    "    found = 1\n",
    "found\n",
    "planted_clique, res"
   ]
  },
  {
   "cell_type": "code",
   "execution_count": 90,
   "metadata": {},
   "outputs": [],
   "source": [
    "def write_to_csv(n, k, output):\n",
    "    header = ['Number of Vertices', 'Clique Size', 'Planted Clique', 'Clique Vertices after Inclusion', 'Run Time (graph generation) ', 'Run Time (exclusion)', 'Run Time (inclusion)', 'Total Run time', 'Success']\n",
    "\n",
    "    with open('N=' + str(n) + '_K=' + str(k) + '.csv', 'w', encoding='UTF8', newline='') as f:\n",
    "        writer = csv.writer(f)\n",
    "        writer.writerow(header)\n",
    "        writer.writerow(output)"
   ]
  },
  {
   "cell_type": "code",
   "execution_count": 91,
   "metadata": {},
   "outputs": [
    {
     "name": "stdout",
     "output_type": "stream",
     "text": [
      "[50, 5, [12, 23, 49, 52, 76], [14, 17, 22, 38, 39], 0.048, 0.10766410827636719, 0.00011181831359863281, 0.23654413223266602, 0]\n"
     ]
    }
   ],
   "source": [
    "out = [N, K, np.sort(clique_vertices).tolist(), res.tolist(), time_generate, time_removal,time_include, total_run_time, found]\n",
    "print(out)\n",
    "write_to_csv(str(N), str(K), out)"
   ]
  }
 ],
 "metadata": {
  "kernelspec": {
   "display_name": "Python 3.10.1 64-bit",
   "language": "python",
   "name": "python3"
  },
  "language_info": {
   "codemirror_mode": {
    "name": "ipython",
    "version": 3
   },
   "file_extension": ".py",
   "mimetype": "text/x-python",
   "name": "python",
   "nbconvert_exporter": "python",
   "pygments_lexer": "ipython3",
   "version": "3.10.1"
  },
  "vscode": {
   "interpreter": {
    "hash": "aee8b7b246df8f9039afb4144a1f6fd8d2ca17a180786b69acc140d282b71a49"
   }
  }
 },
 "nbformat": 4,
 "nbformat_minor": 0
}
