{
 "cells": [
  {
   "cell_type": "code",
   "execution_count": 2,
   "metadata": {
    "collapsed": false,
    "pycharm": {
     "is_executing": true,
     "name": "#%%\n"
    }
   },
   "outputs": [],
   "source": [
    "from random import random\n",
    "import numpy as np\n",
    "from itertools import combinations\n",
    "import math\n",
    "import random"
   ]
  },
  {
   "cell_type": "code",
   "execution_count": 3,
   "metadata": {
    "pycharm": {
     "is_executing": true,
     "name": "#%%\n"
    }
   },
   "outputs": [],
   "source": [
    "# increment the degree of each vertex on graph g by 1\n",
    "def add_all(i, j, k, g):\n",
    "    g[i, j, k] = 1\n",
    "    g[i, k, j] = 1\n",
    "    g[j, i, k] = 1\n",
    "    g[j, k, i] = 1\n",
    "    g[k, i, j] = 1\n",
    "    g[k, j, i] = 1\n",
    "    return g"
   ]
  },
  {
   "cell_type": "code",
   "execution_count": 4,
   "metadata": {
    "pycharm": {
     "is_executing": true,
     "name": "#%%\n"
    }
   },
   "outputs": [],
   "source": [
    "# g: graph (represented as a tensor)\n",
    "# num_vertices: number of vertices on the graph (dimension, or rank of the tensor) \n",
    "# pr: probability of creating edges\n",
    "# k: clique size\n",
    "def generate_graph(num_vertices, pr, k):\n",
    "    def plant_clique():\n",
    "        for i in range(k):\n",
    "            for j in range(i + 1, k):\n",
    "                for l in range(j + 1, k):\n",
    "                    a = clique_vertices[i]\n",
    "                    # print(a)\n",
    "                    vec[a] += 1\n",
    "                    b = clique_vertices[j]\n",
    "                    # print(b)\n",
    "                    vec[b] += 1\n",
    "                    c = clique_vertices[l]\n",
    "                    # print(c)\n",
    "                    vec[c] += 1\n",
    "                    add_all(a, b, c, g)\n",
    "\n",
    "    g = np.array([np.array([np.array([0 for i in range(0, num_vertices)]) for i in range(num_vertices)]) for i in\n",
    "                  range(num_vertices)])\n",
    "    vec = np.array([0 for i in range(0, num_vertices)])\n",
    "\n",
    "    # Set edges\n",
    "    for i in range(num_vertices):\n",
    "        for j in range(i + 1, num_vertices):\n",
    "            for k in range(j + 1, num_vertices):\n",
    "                a = np.random.uniform(0, 1, 1)\n",
    "                # every edge is included independently with probability 1/2\n",
    "                if a < pr:\n",
    "                    vec[i] += 1\n",
    "                    vec[j] += 1\n",
    "                    vec[k] += 1\n",
    "                    add_all(i, j, k, g)\n",
    "\n",
    "    # clique vertices\n",
    "    clique_vertices = random.sample(range(num_vertices), k)\n",
    "\n",
    "    # plant a clique\n",
    "    plant_clique()\n",
    "    return g, vec, clique_vertices\n"
   ]
  },
  {
   "cell_type": "code",
   "execution_count": 25,
   "metadata": {},
   "outputs": [
    {
     "data": {
      "text/plain": [
       "array([0.56319584])"
      ]
     },
     "execution_count": 25,
     "metadata": {},
     "output_type": "execute_result"
    }
   ],
   "source": [
    "a = np.random.uniform(0,1, 1)\n",
    "a"
   ]
  },
  {
   "cell_type": "code",
   "execution_count": 6,
   "metadata": {
    "pycharm": {
     "is_executing": true,
     "name": "#%%\n"
    }
   },
   "outputs": [],
   "source": [
    "# n = 4\n",
    "# p = 0.5\n",
    "# # res = generate_graph(n, p)"
   ]
  },
  {
   "cell_type": "code",
   "execution_count": 7,
   "metadata": {
    "collapsed": false,
    "pycharm": {
     "is_executing": true,
     "name": "#%%\n"
    }
   },
   "outputs": [],
   "source": [
    "# G = res[0]\n",
    "# G"
   ]
  },
  {
   "cell_type": "code",
   "execution_count": 8,
   "metadata": {
    "pycharm": {
     "is_executing": true,
     "name": "#%%\n"
    }
   },
   "outputs": [],
   "source": [
    "# vector storing the flattened list of vertices\n",
    "# V = res[1]\n",
    "# V"
   ]
  },
  {
   "cell_type": "code",
   "execution_count": 9,
   "metadata": {
    "pycharm": {
     "is_executing": true,
     "name": "#%%\n"
    }
   },
   "outputs": [],
   "source": [
    "# np.flip(np.argsort(V))  # sort the indices by the number of presence in hyperedgess in descending order"
   ]
  },
  {
   "cell_type": "code",
   "execution_count": 10,
   "metadata": {
    "pycharm": {
     "is_executing": true,
     "name": "#%%\n"
    }
   },
   "outputs": [],
   "source": [
    "def remove_all(i, j, k, g):\n",
    "    g[i, j, k] = 0\n",
    "    g[i, k, j] = 0\n",
    "    g[j, i, k] = 0\n",
    "    g[j, k, i] = 0\n",
    "    g[k, i, j] = 0\n",
    "    g[k, j, i] = 0\n",
    "    return g\n"
   ]
  },
  {
   "cell_type": "code",
   "execution_count": 11,
   "metadata": {
    "pycharm": {
     "is_executing": true,
     "name": "#%%\n"
    }
   },
   "outputs": [],
   "source": [
    "# remove edge\n",
    "def remove_edges(g, n_dim, vec, curr):\n",
    "    vec[curr] = 0\n",
    "    graph_copy = g.copy()\n",
    "    for j in range(0, n_dim):\n",
    "        for k in range(0, n_dim):\n",
    "            if graph_copy[curr, j, k] == 1:\n",
    "                vec[j] -= 1\n",
    "                vec[k] -= 1\n",
    "                remove_all(curr, j, k, graph_copy)\n",
    "    return graph_copy, vec"
   ]
  },
  {
   "cell_type": "code",
   "execution_count": 12,
   "metadata": {
    "collapsed": false,
    "pycharm": {
     "is_executing": true,
     "name": "#%%\n"
    }
   },
   "outputs": [],
   "source": [
    "def find_num_edges(g, num_vertices):\n",
    "    num_edges = 0\n",
    "    for i in range(num_vertices):\n",
    "        for j in range(i + 1, num_vertices):\n",
    "            for k in range(j + 1, num_vertices):\n",
    "                if g[i, j, k] == 1:\n",
    "                    num_edges += 1\n",
    "    return num_edges"
   ]
  },
  {
   "cell_type": "code",
   "execution_count": 13,
   "metadata": {
    "pycharm": {
     "is_executing": true,
     "name": "#%%\n"
    }
   },
   "outputs": [],
   "source": [
    "\n",
    "def is_clique(g, vec, num_vertices):\n",
    "\n",
    "    active_count = np.count_nonzero(vec)\n",
    "    edge_sum = find_num_edges(g, num_vertices)\n",
    "    if edge_sum == 6 * math.comb(active_count, 3):\n",
    "        return True\n",
    "    return False"
   ]
  },
  {
   "cell_type": "code",
   "execution_count": 14,
   "metadata": {
    "collapsed": false,
    "pycharm": {
     "is_executing": true,
     "name": "#%%\n"
    }
   },
   "outputs": [
    {
     "data": {
      "text/plain": [
       "array([[[0, 0, 0, 0, 0, 0, 0, 0, 0, 0],\n",
       "        [0, 0, 1, 1, 1, 1, 1, 1, 1, 0],\n",
       "        [0, 1, 0, 1, 1, 1, 1, 1, 1, 0],\n",
       "        [0, 1, 1, 0, 1, 1, 1, 1, 1, 0],\n",
       "        [0, 1, 1, 1, 0, 1, 1, 1, 1, 0],\n",
       "        [0, 1, 1, 1, 1, 0, 1, 1, 1, 0],\n",
       "        [0, 1, 1, 1, 1, 1, 0, 1, 1, 1],\n",
       "        [0, 1, 1, 1, 1, 1, 1, 0, 1, 1],\n",
       "        [0, 1, 1, 1, 1, 1, 1, 1, 0, 0],\n",
       "        [0, 0, 0, 0, 0, 0, 1, 1, 0, 0]],\n",
       "\n",
       "       [[0, 0, 1, 1, 1, 1, 1, 1, 1, 0],\n",
       "        [0, 0, 0, 0, 0, 0, 0, 0, 0, 0],\n",
       "        [1, 0, 0, 1, 1, 1, 1, 1, 1, 0],\n",
       "        [1, 0, 1, 0, 1, 1, 1, 1, 1, 1],\n",
       "        [1, 0, 1, 1, 0, 1, 1, 1, 1, 0],\n",
       "        [1, 0, 1, 1, 1, 0, 1, 1, 1, 0],\n",
       "        [1, 0, 1, 1, 1, 1, 0, 1, 1, 0],\n",
       "        [1, 0, 1, 1, 1, 1, 1, 0, 1, 1],\n",
       "        [1, 0, 1, 1, 1, 1, 1, 1, 0, 1],\n",
       "        [0, 0, 0, 1, 0, 0, 0, 1, 1, 0]],\n",
       "\n",
       "       [[0, 1, 0, 1, 1, 1, 1, 1, 1, 0],\n",
       "        [1, 0, 0, 1, 1, 1, 1, 1, 1, 0],\n",
       "        [0, 0, 0, 0, 0, 0, 0, 0, 0, 0],\n",
       "        [1, 1, 0, 0, 1, 1, 1, 1, 1, 0],\n",
       "        [1, 1, 0, 1, 0, 1, 1, 1, 1, 1],\n",
       "        [1, 1, 0, 1, 1, 0, 1, 1, 1, 1],\n",
       "        [1, 1, 0, 1, 1, 1, 0, 1, 1, 0],\n",
       "        [1, 1, 0, 1, 1, 1, 1, 0, 1, 0],\n",
       "        [1, 1, 0, 1, 1, 1, 1, 1, 0, 0],\n",
       "        [0, 0, 0, 0, 1, 1, 0, 0, 0, 0]],\n",
       "\n",
       "       [[0, 1, 1, 0, 1, 1, 1, 1, 1, 0],\n",
       "        [1, 0, 1, 0, 1, 1, 1, 1, 1, 1],\n",
       "        [1, 1, 0, 0, 1, 1, 1, 1, 1, 0],\n",
       "        [0, 0, 0, 0, 0, 0, 0, 0, 0, 0],\n",
       "        [1, 1, 1, 0, 0, 1, 1, 1, 1, 0],\n",
       "        [1, 1, 1, 0, 1, 0, 1, 1, 1, 1],\n",
       "        [1, 1, 1, 0, 1, 1, 0, 1, 1, 0],\n",
       "        [1, 1, 1, 0, 1, 1, 1, 0, 1, 1],\n",
       "        [1, 1, 1, 0, 1, 1, 1, 1, 0, 1],\n",
       "        [0, 1, 0, 0, 0, 1, 0, 1, 1, 0]],\n",
       "\n",
       "       [[0, 1, 1, 1, 0, 1, 1, 1, 1, 0],\n",
       "        [1, 0, 1, 1, 0, 1, 1, 1, 1, 0],\n",
       "        [1, 1, 0, 1, 0, 1, 1, 1, 1, 1],\n",
       "        [1, 1, 1, 0, 0, 1, 1, 1, 1, 0],\n",
       "        [0, 0, 0, 0, 0, 0, 0, 0, 0, 0],\n",
       "        [1, 1, 1, 1, 0, 0, 1, 1, 1, 1],\n",
       "        [1, 1, 1, 1, 0, 1, 0, 1, 1, 0],\n",
       "        [1, 1, 1, 1, 0, 1, 1, 0, 1, 0],\n",
       "        [1, 1, 1, 1, 0, 1, 1, 1, 0, 0],\n",
       "        [0, 0, 1, 0, 0, 1, 0, 0, 0, 0]],\n",
       "\n",
       "       [[0, 1, 1, 1, 1, 0, 1, 1, 1, 0],\n",
       "        [1, 0, 1, 1, 1, 0, 1, 1, 1, 0],\n",
       "        [1, 1, 0, 1, 1, 0, 1, 1, 1, 1],\n",
       "        [1, 1, 1, 0, 1, 0, 1, 1, 1, 1],\n",
       "        [1, 1, 1, 1, 0, 0, 1, 1, 1, 1],\n",
       "        [0, 0, 0, 0, 0, 0, 0, 0, 0, 0],\n",
       "        [1, 1, 1, 1, 1, 0, 0, 1, 1, 0],\n",
       "        [1, 1, 1, 1, 1, 0, 1, 0, 1, 1],\n",
       "        [1, 1, 1, 1, 1, 0, 1, 1, 0, 1],\n",
       "        [0, 0, 1, 1, 1, 0, 0, 1, 1, 0]],\n",
       "\n",
       "       [[0, 1, 1, 1, 1, 1, 0, 1, 1, 1],\n",
       "        [1, 0, 1, 1, 1, 1, 0, 1, 1, 0],\n",
       "        [1, 1, 0, 1, 1, 1, 0, 1, 1, 0],\n",
       "        [1, 1, 1, 0, 1, 1, 0, 1, 1, 0],\n",
       "        [1, 1, 1, 1, 0, 1, 0, 1, 1, 0],\n",
       "        [1, 1, 1, 1, 1, 0, 0, 1, 1, 0],\n",
       "        [0, 0, 0, 0, 0, 0, 0, 0, 0, 0],\n",
       "        [1, 1, 1, 1, 1, 1, 0, 0, 1, 0],\n",
       "        [1, 1, 1, 1, 1, 1, 0, 1, 0, 1],\n",
       "        [1, 0, 0, 0, 0, 0, 0, 0, 1, 0]],\n",
       "\n",
       "       [[0, 1, 1, 1, 1, 1, 1, 0, 1, 1],\n",
       "        [1, 0, 1, 1, 1, 1, 1, 0, 1, 1],\n",
       "        [1, 1, 0, 1, 1, 1, 1, 0, 1, 0],\n",
       "        [1, 1, 1, 0, 1, 1, 1, 0, 1, 1],\n",
       "        [1, 1, 1, 1, 0, 1, 1, 0, 1, 0],\n",
       "        [1, 1, 1, 1, 1, 0, 1, 0, 1, 1],\n",
       "        [1, 1, 1, 1, 1, 1, 0, 0, 1, 0],\n",
       "        [0, 0, 0, 0, 0, 0, 0, 0, 0, 0],\n",
       "        [1, 1, 1, 1, 1, 1, 1, 0, 0, 1],\n",
       "        [1, 1, 0, 1, 0, 1, 0, 0, 1, 0]],\n",
       "\n",
       "       [[0, 1, 1, 1, 1, 1, 1, 1, 0, 0],\n",
       "        [1, 0, 1, 1, 1, 1, 1, 1, 0, 1],\n",
       "        [1, 1, 0, 1, 1, 1, 1, 1, 0, 0],\n",
       "        [1, 1, 1, 0, 1, 1, 1, 1, 0, 1],\n",
       "        [1, 1, 1, 1, 0, 1, 1, 1, 0, 0],\n",
       "        [1, 1, 1, 1, 1, 0, 1, 1, 0, 1],\n",
       "        [1, 1, 1, 1, 1, 1, 0, 1, 0, 1],\n",
       "        [1, 1, 1, 1, 1, 1, 1, 0, 0, 1],\n",
       "        [0, 0, 0, 0, 0, 0, 0, 0, 0, 0],\n",
       "        [0, 1, 0, 1, 0, 1, 1, 1, 0, 0]],\n",
       "\n",
       "       [[0, 0, 0, 0, 0, 0, 1, 1, 0, 0],\n",
       "        [0, 0, 0, 1, 0, 0, 0, 1, 1, 0],\n",
       "        [0, 0, 0, 0, 1, 1, 0, 0, 0, 0],\n",
       "        [0, 1, 0, 0, 0, 1, 0, 1, 1, 0],\n",
       "        [0, 0, 1, 0, 0, 1, 0, 0, 0, 0],\n",
       "        [0, 0, 1, 1, 1, 0, 0, 1, 1, 0],\n",
       "        [1, 0, 0, 0, 0, 0, 0, 0, 1, 0],\n",
       "        [1, 1, 0, 1, 0, 1, 0, 0, 1, 0],\n",
       "        [0, 1, 0, 1, 0, 1, 1, 1, 0, 0],\n",
       "        [0, 0, 0, 0, 0, 0, 0, 0, 0, 0]]])"
      ]
     },
     "execution_count": 14,
     "metadata": {},
     "output_type": "execute_result"
    }
   ],
   "source": [
    "n = 10\n",
    "p = 0.5\n",
    "k = 5\n",
    "\n",
    "res = generate_graph(n, p, k)\n",
    "G = res[0]\n",
    "G"
   ]
  },
  {
   "cell_type": "code",
   "execution_count": 15,
   "metadata": {
    "collapsed": false,
    "pycharm": {
     "is_executing": true,
     "name": "#%%\n"
    }
   },
   "outputs": [
    {
     "data": {
      "text/plain": [
       "array([43, 47, 42, 47, 43, 43, 40, 46, 48, 15])"
      ]
     },
     "execution_count": 15,
     "metadata": {},
     "output_type": "execute_result"
    }
   ],
   "source": [
    "# vector storing the flattened list of vertices\n",
    "V = res[1]\n",
    "V"
   ]
  },
  {
   "cell_type": "code",
   "execution_count": 16,
   "metadata": {
    "collapsed": false,
    "pycharm": {
     "is_executing": true,
     "name": "#%%\n"
    }
   },
   "outputs": [],
   "source": [
    "# np.flip(np.argsort(V))"
   ]
  },
  {
   "cell_type": "code",
   "execution_count": 17,
   "metadata": {
    "collapsed": false,
    "pycharm": {
     "is_executing": true,
     "name": "#%%\n"
    }
   },
   "outputs": [],
   "source": [
    "# remove_edges(G, n, V, V[0])"
   ]
  },
  {
   "cell_type": "code",
   "execution_count": 18,
   "metadata": {
    "collapsed": false,
    "pycharm": {
     "is_executing": true,
     "name": "#%%\n"
    }
   },
   "outputs": [
    {
     "data": {
      "text/plain": [
       "array([[[0, 0, 0, 0, 0, 0, 0, 0, 0, 0],\n",
       "        [0, 0, 1, 1, 1, 1, 1, 1, 1, 0],\n",
       "        [0, 1, 0, 1, 1, 1, 1, 1, 1, 0],\n",
       "        [0, 1, 1, 0, 1, 1, 1, 1, 1, 0],\n",
       "        [0, 1, 1, 1, 0, 1, 1, 1, 1, 0],\n",
       "        [0, 1, 1, 1, 1, 0, 1, 1, 1, 0],\n",
       "        [0, 1, 1, 1, 1, 1, 0, 1, 1, 1],\n",
       "        [0, 1, 1, 1, 1, 1, 1, 0, 1, 1],\n",
       "        [0, 1, 1, 1, 1, 1, 1, 1, 0, 0],\n",
       "        [0, 0, 0, 0, 0, 0, 1, 1, 0, 0]],\n",
       "\n",
       "       [[0, 0, 1, 1, 1, 1, 1, 1, 1, 0],\n",
       "        [0, 0, 0, 0, 0, 0, 0, 0, 0, 0],\n",
       "        [1, 0, 0, 1, 1, 1, 1, 1, 1, 0],\n",
       "        [1, 0, 1, 0, 1, 1, 1, 1, 1, 1],\n",
       "        [1, 0, 1, 1, 0, 1, 1, 1, 1, 0],\n",
       "        [1, 0, 1, 1, 1, 0, 1, 1, 1, 0],\n",
       "        [1, 0, 1, 1, 1, 1, 0, 1, 1, 0],\n",
       "        [1, 0, 1, 1, 1, 1, 1, 0, 1, 1],\n",
       "        [1, 0, 1, 1, 1, 1, 1, 1, 0, 1],\n",
       "        [0, 0, 0, 1, 0, 0, 0, 1, 1, 0]],\n",
       "\n",
       "       [[0, 1, 0, 1, 1, 1, 1, 1, 1, 0],\n",
       "        [1, 0, 0, 1, 1, 1, 1, 1, 1, 0],\n",
       "        [0, 0, 0, 0, 0, 0, 0, 0, 0, 0],\n",
       "        [1, 1, 0, 0, 1, 1, 1, 1, 1, 0],\n",
       "        [1, 1, 0, 1, 0, 1, 1, 1, 1, 1],\n",
       "        [1, 1, 0, 1, 1, 0, 1, 1, 1, 1],\n",
       "        [1, 1, 0, 1, 1, 1, 0, 1, 1, 0],\n",
       "        [1, 1, 0, 1, 1, 1, 1, 0, 1, 0],\n",
       "        [1, 1, 0, 1, 1, 1, 1, 1, 0, 0],\n",
       "        [0, 0, 0, 0, 1, 1, 0, 0, 0, 0]],\n",
       "\n",
       "       [[0, 1, 1, 0, 1, 1, 1, 1, 1, 0],\n",
       "        [1, 0, 1, 0, 1, 1, 1, 1, 1, 1],\n",
       "        [1, 1, 0, 0, 1, 1, 1, 1, 1, 0],\n",
       "        [0, 0, 0, 0, 0, 0, 0, 0, 0, 0],\n",
       "        [1, 1, 1, 0, 0, 1, 1, 1, 1, 0],\n",
       "        [1, 1, 1, 0, 1, 0, 1, 1, 1, 1],\n",
       "        [1, 1, 1, 0, 1, 1, 0, 1, 1, 0],\n",
       "        [1, 1, 1, 0, 1, 1, 1, 0, 1, 1],\n",
       "        [1, 1, 1, 0, 1, 1, 1, 1, 0, 1],\n",
       "        [0, 1, 0, 0, 0, 1, 0, 1, 1, 0]],\n",
       "\n",
       "       [[0, 1, 1, 1, 0, 1, 1, 1, 1, 0],\n",
       "        [1, 0, 1, 1, 0, 1, 1, 1, 1, 0],\n",
       "        [1, 1, 0, 1, 0, 1, 1, 1, 1, 1],\n",
       "        [1, 1, 1, 0, 0, 1, 1, 1, 1, 0],\n",
       "        [0, 0, 0, 0, 0, 0, 0, 0, 0, 0],\n",
       "        [1, 1, 1, 1, 0, 0, 1, 1, 1, 1],\n",
       "        [1, 1, 1, 1, 0, 1, 0, 1, 1, 0],\n",
       "        [1, 1, 1, 1, 0, 1, 1, 0, 1, 0],\n",
       "        [1, 1, 1, 1, 0, 1, 1, 1, 0, 0],\n",
       "        [0, 0, 1, 0, 0, 1, 0, 0, 0, 0]],\n",
       "\n",
       "       [[0, 1, 1, 1, 1, 0, 1, 1, 1, 0],\n",
       "        [1, 0, 1, 1, 1, 0, 1, 1, 1, 0],\n",
       "        [1, 1, 0, 1, 1, 0, 1, 1, 1, 1],\n",
       "        [1, 1, 1, 0, 1, 0, 1, 1, 1, 1],\n",
       "        [1, 1, 1, 1, 0, 0, 1, 1, 1, 1],\n",
       "        [0, 0, 0, 0, 0, 0, 0, 0, 0, 0],\n",
       "        [1, 1, 1, 1, 1, 0, 0, 1, 1, 0],\n",
       "        [1, 1, 1, 1, 1, 0, 1, 0, 1, 1],\n",
       "        [1, 1, 1, 1, 1, 0, 1, 1, 0, 1],\n",
       "        [0, 0, 1, 1, 1, 0, 0, 1, 1, 0]],\n",
       "\n",
       "       [[0, 1, 1, 1, 1, 1, 0, 1, 1, 1],\n",
       "        [1, 0, 1, 1, 1, 1, 0, 1, 1, 0],\n",
       "        [1, 1, 0, 1, 1, 1, 0, 1, 1, 0],\n",
       "        [1, 1, 1, 0, 1, 1, 0, 1, 1, 0],\n",
       "        [1, 1, 1, 1, 0, 1, 0, 1, 1, 0],\n",
       "        [1, 1, 1, 1, 1, 0, 0, 1, 1, 0],\n",
       "        [0, 0, 0, 0, 0, 0, 0, 0, 0, 0],\n",
       "        [1, 1, 1, 1, 1, 1, 0, 0, 1, 0],\n",
       "        [1, 1, 1, 1, 1, 1, 0, 1, 0, 1],\n",
       "        [1, 0, 0, 0, 0, 0, 0, 0, 1, 0]],\n",
       "\n",
       "       [[0, 1, 1, 1, 1, 1, 1, 0, 1, 1],\n",
       "        [1, 0, 1, 1, 1, 1, 1, 0, 1, 1],\n",
       "        [1, 1, 0, 1, 1, 1, 1, 0, 1, 0],\n",
       "        [1, 1, 1, 0, 1, 1, 1, 0, 1, 1],\n",
       "        [1, 1, 1, 1, 0, 1, 1, 0, 1, 0],\n",
       "        [1, 1, 1, 1, 1, 0, 1, 0, 1, 1],\n",
       "        [1, 1, 1, 1, 1, 1, 0, 0, 1, 0],\n",
       "        [0, 0, 0, 0, 0, 0, 0, 0, 0, 0],\n",
       "        [1, 1, 1, 1, 1, 1, 1, 0, 0, 1],\n",
       "        [1, 1, 0, 1, 0, 1, 0, 0, 1, 0]],\n",
       "\n",
       "       [[0, 1, 1, 1, 1, 1, 1, 1, 0, 0],\n",
       "        [1, 0, 1, 1, 1, 1, 1, 1, 0, 1],\n",
       "        [1, 1, 0, 1, 1, 1, 1, 1, 0, 0],\n",
       "        [1, 1, 1, 0, 1, 1, 1, 1, 0, 1],\n",
       "        [1, 1, 1, 1, 0, 1, 1, 1, 0, 0],\n",
       "        [1, 1, 1, 1, 1, 0, 1, 1, 0, 1],\n",
       "        [1, 1, 1, 1, 1, 1, 0, 1, 0, 1],\n",
       "        [1, 1, 1, 1, 1, 1, 1, 0, 0, 1],\n",
       "        [0, 0, 0, 0, 0, 0, 0, 0, 0, 0],\n",
       "        [0, 1, 0, 1, 0, 1, 1, 1, 0, 0]],\n",
       "\n",
       "       [[0, 0, 0, 0, 0, 0, 1, 1, 0, 0],\n",
       "        [0, 0, 0, 1, 0, 0, 0, 1, 1, 0],\n",
       "        [0, 0, 0, 0, 1, 1, 0, 0, 0, 0],\n",
       "        [0, 1, 0, 0, 0, 1, 0, 1, 1, 0],\n",
       "        [0, 0, 1, 0, 0, 1, 0, 0, 0, 0],\n",
       "        [0, 0, 1, 1, 1, 0, 0, 1, 1, 0],\n",
       "        [1, 0, 0, 0, 0, 0, 0, 0, 1, 0],\n",
       "        [1, 1, 0, 1, 0, 1, 0, 0, 1, 0],\n",
       "        [0, 1, 0, 1, 0, 1, 1, 1, 0, 0],\n",
       "        [0, 0, 0, 0, 0, 0, 0, 0, 0, 0]]])"
      ]
     },
     "execution_count": 18,
     "metadata": {},
     "output_type": "execute_result"
    }
   ],
   "source": [
    "G = res[0]\n",
    "G"
   ]
  },
  {
   "cell_type": "code",
   "execution_count": 19,
   "metadata": {},
   "outputs": [
    {
     "data": {
      "text/plain": [
       "[8, 5, 4, 3, 1, 0, 7, 2, 6]"
      ]
     },
     "execution_count": 19,
     "metadata": {},
     "output_type": "execute_result"
    }
   ],
   "source": [
    "clique_vertices = res[-1]\n",
    "clique_vertices"
   ]
  },
  {
   "cell_type": "code",
   "execution_count": 21,
   "metadata": {
    "pycharm": {
     "is_executing": true,
     "name": "#%%\n"
    }
   },
   "outputs": [
    {
     "name": "stdout",
     "output_type": "stream",
     "text": [
      "[43 47 42 47 43 43 40 46 48 15]\n",
      "[9 6 2 0 4 5 7 1 3 8]\n",
      "9\n",
      "[41 44 40 43 41 38 38 41 43  0]\n",
      "[41 44 40 43 41 38 38 41 43  0]\n",
      "[9 5 6 2 0 4 7 3 8 1]\n",
      "5\n",
      "[34 37 33 36 34  0 31 34 36  0]\n",
      "[34 37 33 36 34  0 31 34 36  0]\n",
      "[5 9 6 2 0 4 7 3 8 1]\n",
      "6\n",
      "[28 31 27 30 28  0  0 28 30  0]\n",
      "[28 31 27 30 28  0  0 28 30  0]\n",
      "[5 6 9 2 0 4 7 3 8 1]\n",
      "2\n",
      "[23 26  0 25 23  0  0 23 25  0]\n",
      "[23 26  0 25 23  0  0 23 25  0]\n",
      "[2 5 6 9 0 4 7 3 8 1]\n",
      "0\n",
      "[ 0 22  0 21 19  0  0 19 21  0]\n",
      "[ 0 22  0 21 19  0  0 19 21  0]\n",
      "[0 2 5 6 9 4 7 3 8 1]\n",
      "4\n",
      "[ 0 19  0 18  0  0  0 16 18  0]\n",
      "[ 0 19  0 18  0  0  0 16 18  0]\n",
      "[0 2 4 5 6 9 7 3 8 1]\n",
      "7\n",
      "[ 0 17  0 16  0  0  0  0 16  0]\n",
      "[ 0 17  0 16  0  0  0  0 16  0]\n",
      "[0 2 4 5 6 7 9 3 8 1]\n",
      "3\n",
      "[ 0 16  0  0  0  0  0  0 15  0]\n"
     ]
    }
   ],
   "source": [
    "clique = False\n",
    "while not clique:\n",
    "    print(V)\n",
    "    # curr = np.flip(np.argsort(V))[0]\n",
    "    # V_transformed = np.array([V[i] = math.comb(num_vertices, 2) + 1 if V[i] == 0 for i in range(num_vertices)])\n",
    "\n",
    "    curr = -1\n",
    "    \n",
    "    idx_sorted = np.argsort(V)\n",
    "    print(idx_sorted)\n",
    "    for idx in range(n):\n",
    "        if V[idx_sorted[idx]] != 0:\n",
    "            curr = idx_sorted[idx]\n",
    "            break\n",
    "    print(curr)\n",
    "    A = remove_edges(G, n, V, curr)\n",
    "    print(A[1])\n",
    "    G = A[0]\n",
    "\n",
    "    clique = is_clique(G, V, n)"
   ]
  },
  {
   "cell_type": "code",
   "execution_count": 22,
   "metadata": {
    "collapsed": false,
    "pycharm": {
     "name": "#%%\n"
    }
   },
   "outputs": [
    {
     "data": {
      "text/plain": [
       "[8, 5, 4, 3, 1, 0, 7, 2, 6]"
      ]
     },
     "execution_count": 22,
     "metadata": {},
     "output_type": "execute_result"
    }
   ],
   "source": [
    "clique_v = res[-1]\n",
    "clique_v"
   ]
  },
  {
   "cell_type": "code",
   "execution_count": 23,
   "metadata": {},
   "outputs": [
    {
     "data": {
      "text/plain": [
       "array([ 0, 16,  0,  0,  0,  0,  0,  0, 15,  0])"
      ]
     },
     "execution_count": 23,
     "metadata": {},
     "output_type": "execute_result"
    }
   ],
   "source": [
    "V"
   ]
  },
  {
   "cell_type": "markdown",
   "metadata": {},
   "source": [
    "## Inclusion Phase"
   ]
  }
 ],
 "metadata": {
  "kernelspec": {
   "display_name": "Python 3.10.1 64-bit",
   "language": "python",
   "name": "python3"
  },
  "language_info": {
   "codemirror_mode": {
    "name": "ipython",
    "version": 3
   },
   "file_extension": ".py",
   "mimetype": "text/x-python",
   "name": "python",
   "nbconvert_exporter": "python",
   "pygments_lexer": "ipython3",
   "version": "3.10.1"
  },
  "vscode": {
   "interpreter": {
    "hash": "aee8b7b246df8f9039afb4144a1f6fd8d2ca17a180786b69acc140d282b71a49"
   }
  }
 },
 "nbformat": 4,
 "nbformat_minor": 0
}
