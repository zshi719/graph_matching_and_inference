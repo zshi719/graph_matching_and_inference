{
 "cells": [
  {
   "cell_type": "code",
   "execution_count": null,
   "metadata": {
    "collapsed": false,
    "pycharm": {
     "name": "#%%\n",
     "is_executing": true
    }
   },
   "outputs": [],
   "source": [
    "from random import random\n",
    "import numpy as np\n",
    "from itertools import combinations\n",
    "import math"
   ]
  },
  {
   "cell_type": "code",
   "execution_count": null,
   "metadata": {
    "pycharm": {
     "name": "#%%\n",
     "is_executing": true
    }
   },
   "outputs": [],
   "source": [
    "x = np.array([[[1, 2, 3],\n",
    "               [4, 5, 6],\n",
    "               [7, 8, 9]],\n",
    "              [[-1, -2, -3],\n",
    "               [-4, -5, -6],\n",
    "               [-7, -8, -9]],\n",
    "              [[1, 2, 3],\n",
    "               [4, 5, 6],\n",
    "               [7, 8, 9]]])\n",
    "x.shape"
   ]
  },
  {
   "cell_type": "code",
   "execution_count": null,
   "metadata": {
    "pycharm": {
     "name": "#%%\n",
     "is_executing": true
    }
   },
   "outputs": [],
   "source": [
    "def add_all(i, j, k, g):\n",
    "    g[i, j, k] = 1\n",
    "    g[i, k, j] = 1\n",
    "    g[j, i, k] = 1\n",
    "    g[j, k, i] = 1\n",
    "    g[k, i, j] = 1\n",
    "    g[k, j, i] = 1\n",
    "    return g"
   ]
  },
  {
   "cell_type": "code",
   "execution_count": null,
   "metadata": {
    "pycharm": {
     "name": "#%%\n",
     "is_executing": true
    }
   },
   "outputs": [],
   "source": [
    "# g: tensor\n",
    "# n: dimension, or rank of the tensor\n",
    "# p: probability of creating edges\n",
    "def generate_graph(num_vertices, pr):\n",
    "    g = np.array([np.array([np.array([0 for i in range(0, num_vertices)]) for i in range(num_vertices)]) for i in\n",
    "                  range(num_vertices)])\n",
    "    vec = np.array([0 for i in range(0, num_vertices)])\n",
    "    print(vec)\n",
    "    # Set edges\n",
    "    for i in range(num_vertices):\n",
    "        for j in range(i + 1, num_vertices):\n",
    "            for k in range(j + 1, num_vertices):\n",
    "                a = np.random.rand()\n",
    "                # print(a)\n",
    "                if a < pr:\n",
    "                    vec[i] += 1\n",
    "                    vec[j] += 1\n",
    "                    vec[k] += 1\n",
    "                    add_all(i, j, k, g)\n",
    "    return g, vec\n"
   ]
  },
  {
   "cell_type": "code",
   "execution_count": null,
   "metadata": {
    "pycharm": {
     "name": "#%%\n",
     "is_executing": true
    }
   },
   "outputs": [],
   "source": [
    "# n = 4\n",
    "# p = 0.5\n",
    "# # res = generate_graph(n, p)"
   ]
  },
  {
   "cell_type": "code",
   "execution_count": null,
   "outputs": [],
   "source": [
    "# G = res[0]\n",
    "# G"
   ],
   "metadata": {
    "collapsed": false,
    "pycharm": {
     "name": "#%%\n",
     "is_executing": true
    }
   }
  },
  {
   "cell_type": "code",
   "execution_count": null,
   "metadata": {
    "pycharm": {
     "name": "#%%\n",
     "is_executing": true
    }
   },
   "outputs": [],
   "source": [
    "# vector storing the flattened list of vertices\n",
    "# V = res[1]\n",
    "# V"
   ]
  },
  {
   "cell_type": "code",
   "execution_count": null,
   "metadata": {
    "pycharm": {
     "name": "#%%\n",
     "is_executing": true
    }
   },
   "outputs": [],
   "source": [
    "# np.flip(np.argsort(V))  # sort the indices by the number of presence in hyperedgess in descending order"
   ]
  },
  {
   "cell_type": "code",
   "execution_count": null,
   "metadata": {
    "pycharm": {
     "name": "#%%\n",
     "is_executing": true
    }
   },
   "outputs": [],
   "source": [
    "def remove_all(i, j, k, g):\n",
    "    g[i, j, k] = 0\n",
    "    g[i, k, j] = 0\n",
    "    g[j, i, k] = 0\n",
    "    g[j, k, i] = 0\n",
    "    g[k, i, j] = 0\n",
    "    g[k, j, i] = 0\n",
    "    return g\n"
   ]
  },
  {
   "cell_type": "code",
   "execution_count": null,
   "metadata": {
    "pycharm": {
     "name": "#%%\n",
     "is_executing": true
    }
   },
   "outputs": [],
   "source": [
    "# remove edge\n",
    "def remove_edges(g, n_dim, vec, curr):\n",
    "    vec[curr] = 0\n",
    "    graph_copy = g.copy()\n",
    "    for j in range(0, n_dim):\n",
    "        for k in range(0, n_dim):\n",
    "            if graph_copy[curr, j, k] == 1:\n",
    "                vec[j] -= 1\n",
    "                vec[k] -= 1\n",
    "                remove_all(curr, j, k, graph_copy)\n",
    "    return graph_copy"
   ]
  },
  {
   "cell_type": "code",
   "execution_count": null,
   "metadata": {
    "pycharm": {
     "name": "#%%\n",
     "is_executing": true
    }
   },
   "outputs": [],
   "source": [
    "# remove_edges(G, n, V, V[0])"
   ]
  },
  {
   "cell_type": "code",
   "execution_count": null,
   "metadata": {
    "pycharm": {
     "name": "#%%\n",
     "is_executing": true
    }
   },
   "outputs": [],
   "source": [
    "# G = res[0]\n",
    "# G"
   ]
  },
  {
   "cell_type": "code",
   "execution_count": null,
   "metadata": {
    "pycharm": {
     "name": "#%%\n",
     "is_executing": true
    }
   },
   "outputs": [],
   "source": [
    "# active_count = 0\n",
    "# edge_sum = 0"
   ]
  },
  {
   "cell_type": "code",
   "execution_count": null,
   "outputs": [],
   "source": [
    "def find_num_edges(g, num_vertices):\n",
    "    num_edges = 0\n",
    "    for i in range(num_vertices):\n",
    "        for j in range(i + 1, num_vertices):\n",
    "            for k in range(j + 1, num_vertices):\n",
    "                if g[i, j, k] == 1:\n",
    "                    num_edges += 1\n",
    "    return num_edges"
   ],
   "metadata": {
    "collapsed": false,
    "pycharm": {
     "name": "#%%\n",
     "is_executing": true
    }
   }
  },
  {
   "cell_type": "code",
   "execution_count": null,
   "metadata": {
    "pycharm": {
     "name": "#%%\n",
     "is_executing": true
    }
   },
   "outputs": [],
   "source": [
    "\n",
    "def is_clique(g, vec, num_vertices):\n",
    "\n",
    "    vec_copy = vec.copy()\n",
    "    graph_copy = g.copy()\n",
    "\n",
    "    for i in range(num_vertices):\n",
    "        for j in range(i + 1, num_vertices):\n",
    "            for k in range(j + 1, num_vertices):\n",
    "                if g[i, j, k] == 1:\n",
    "                    vec_copy[j] -= 1\n",
    "                    vec_copy[k] -= 1\n",
    "                    graph_copy = remove_all(i, j, k, graph_copy)\n",
    "\n",
    "                    g = graph_copy\n",
    "                    # update active vertices and total edge count\n",
    "                    active_count = vec_copy.sum()\n",
    "                    print(active_count)\n",
    "                    edge_sum = find_num_edges(g, num_vertices)\n",
    "                    print(edge_sum)\n",
    "                    # break condition\n",
    "                    if edge_sum == 6 * math.comb(active_count, 3):\n",
    "                        return True\n",
    "    return False"
   ]
  },
  {
   "cell_type": "code",
   "execution_count": null,
   "outputs": [],
   "source": [
    "n = 4\n",
    "p = 0.5\n",
    "\n",
    "res = generate_graph(n, p)\n",
    "G = res[0]\n",
    "G"
   ],
   "metadata": {
    "collapsed": false,
    "pycharm": {
     "name": "#%%\n",
     "is_executing": true
    }
   }
  },
  {
   "cell_type": "code",
   "execution_count": null,
   "outputs": [],
   "source": [
    "# vector storing the flattened list of vertices\n",
    "V = res[1]\n",
    "V"
   ],
   "metadata": {
    "collapsed": false,
    "pycharm": {
     "name": "#%%\n",
     "is_executing": true
    }
   }
  },
  {
   "cell_type": "code",
   "execution_count": null,
   "outputs": [],
   "source": [
    "# np.flip(np.argsort(V))"
   ],
   "metadata": {
    "collapsed": false,
    "pycharm": {
     "name": "#%%\n",
     "is_executing": true
    }
   }
  },
  {
   "cell_type": "code",
   "execution_count": null,
   "outputs": [],
   "source": [
    "# remove_edges(G, n, V, V[0])"
   ],
   "metadata": {
    "collapsed": false,
    "pycharm": {
     "name": "#%%\n",
     "is_executing": true
    }
   }
  },
  {
   "cell_type": "code",
   "execution_count": null,
   "outputs": [],
   "source": [
    "G = res[0]\n",
    "G"
   ],
   "metadata": {
    "collapsed": false,
    "pycharm": {
     "name": "#%%\n",
     "is_executing": true
    }
   }
  },
  {
   "cell_type": "code",
   "execution_count": null,
   "metadata": {
    "pycharm": {
     "name": "#%%\n",
     "is_executing": true
    }
   },
   "outputs": [],
   "source": [
    "clique = False\n",
    "while not clique:\n",
    "    np.flip(np.argsort(V))\n",
    "    curr = V[0]\n",
    "\n",
    "    A = remove_edges(G, n, V, V[0])\n",
    "    G = A\n",
    "\n",
    "    if is_clique(G, V, n):\n",
    "        clique = True"
   ]
  },
  {
   "cell_type": "code",
   "execution_count": null,
   "outputs": [],
   "source": [],
   "metadata": {
    "collapsed": false,
    "pycharm": {
     "name": "#%%\n"
    }
   }
  },
  {
   "cell_type": "code",
   "execution_count": null,
   "outputs": [],
   "source": [],
   "metadata": {
    "collapsed": false,
    "pycharm": {
     "name": "#%%\n"
    }
   }
  }
 ],
 "metadata": {
  "kernelspec": {
   "display_name": "Python 3.10.1 64-bit",
   "language": "python",
   "name": "python3"
  },
  "language_info": {
   "codemirror_mode": {
    "name": "ipython",
    "version": 3
   },
   "file_extension": ".py",
   "mimetype": "text/x-python",
   "name": "python",
   "nbconvert_exporter": "python",
   "pygments_lexer": "ipython3",
   "version": "3.10.1"
  },
  "vscode": {
   "interpreter": {
    "hash": "aee8b7b246df8f9039afb4144a1f6fd8d2ca17a180786b69acc140d282b71a49"
   }
  }
 },
 "nbformat": 4,
 "nbformat_minor": 0
}