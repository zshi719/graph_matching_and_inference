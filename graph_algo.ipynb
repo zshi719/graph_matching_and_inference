{
 "cells": [
  {
   "cell_type": "code",
   "execution_count": null,
   "metadata": {
    "collapsed": false,
    "pycharm": {
     "is_executing": true,
     "name": "#%%\n"
    }
   },
   "outputs": [],
   "source": [
    "from random import random\n",
    "import numpy as np\n",
    "from itertools import combinations\n",
    "import math\n",
    "import random"
   ]
  },
  {
   "cell_type": "code",
   "execution_count": null,
   "metadata": {
    "pycharm": {
     "is_executing": true,
     "name": "#%%\n"
    }
   },
   "outputs": [],
   "source": [
    "# increment the degree of each vertex on graph g by 1\n",
    "def add_all(i, j, k, g):\n",
    "    g[i, j, k] = 1\n",
    "    g[i, k, j] = 1\n",
    "    g[j, i, k] = 1\n",
    "    g[j, k, i] = 1\n",
    "    g[k, i, j] = 1\n",
    "    g[k, j, i] = 1\n",
    "    return g"
   ]
  },
  {
   "cell_type": "code",
   "execution_count": null,
   "metadata": {
    "pycharm": {
     "is_executing": true,
     "name": "#%%\n"
    }
   },
   "outputs": [],
   "source": [
    "# decrement the degree of each vertex on graph g to 0\n",
    "def remove_all(i, j, k, g):\n",
    "    g[i, j, k] = 0\n",
    "    g[i, k, j] = 0\n",
    "    g[j, i, k] = 0\n",
    "    g[j, k, i] = 0\n",
    "    g[k, i, j] = 0\n",
    "    g[k, j, i] = 0\n",
    "    return g\n"
   ]
  },
  {
   "cell_type": "code",
   "execution_count": null,
   "metadata": {
    "pycharm": {
     "is_executing": true,
     "name": "#%%\n"
    }
   },
   "outputs": [],
   "source": [
    "### create a graph with planted clique of size = clique_size\n",
    "\n",
    "# g: graph (represented as a tensor)\n",
    "# num_vertices: number of vertices on the graph (dimension, or rank of the tensor) \n",
    "# pr: probability of creating edges\n",
    "# clique_size: clique size\n",
    "\n",
    "def generate_graph(num_vertices, pr, clique_size):\n",
    "    def plant_clique():\n",
    "        for i in range(clique_size):\n",
    "            for j in range(i + 1, clique_size):\n",
    "                for l in range(j + 1, clique_size):\n",
    "                    a = clique_vertices[i]\n",
    "                    # print(a)\n",
    "                    vec[a] += 1\n",
    "                    b = clique_vertices[j]\n",
    "                    # print(b)\n",
    "                    vec[b] += 1\n",
    "                    c = clique_vertices[l]\n",
    "                    # print(c)\n",
    "                    vec[c] += 1\n",
    "                    add_all(a, b, c, g)\n",
    "\n",
    "    g = np.array([np.array([np.array([0 for i in range(0, num_vertices)]) for i in range(num_vertices)]) for i in\n",
    "                  range(num_vertices)])\n",
    "    vec = np.array([0 for i in range(0, num_vertices)])\n",
    "\n",
    "    # Set edges\n",
    "    for i in range(num_vertices):\n",
    "        for j in range(i + 1, num_vertices):\n",
    "            for k in range(j + 1, num_vertices):\n",
    "                a = np.random.uniform(0, 1, 1)\n",
    "                # every edge is included independently with probability 1/2\n",
    "                if a < pr:\n",
    "                    vec[i] += 1\n",
    "                    vec[j] += 1\n",
    "                    vec[k] += 1\n",
    "                    add_all(i, j, k, g)\n",
    "\n",
    "    # clique_vertices = random.sample(range(num_vertices), clique_size) # is is wrong??; would violate the clique size constraint\n",
    "    \n",
    "    clique_vertices = np.random.choice(range(num_vertices), clique_size, replace=False)\n",
    "\n",
    "    plant_clique()\n",
    "\n",
    "    return g, vec, clique_vertices\n"
   ]
  },
  {
   "cell_type": "code",
   "execution_count": null,
   "metadata": {
    "collapsed": false,
    "pycharm": {
     "is_executing": true,
     "name": "#%%\n"
    }
   },
   "outputs": [],
   "source": [
    "# calculate the total number of edges on a graph with num_vertices vertices\n",
    "def find_num_edges(g, num_vertices):\n",
    "    num_edges = 0\n",
    "    for i in range(num_vertices):\n",
    "        for j in range(i + 1, num_vertices):\n",
    "            for k in range(j + 1, num_vertices):\n",
    "                if g[i, j, k] == 1:\n",
    "                    num_edges += 1\n",
    "    return num_edges"
   ]
  },
  {
   "cell_type": "code",
   "execution_count": null,
   "metadata": {
    "pycharm": {
     "is_executing": true,
     "name": "#%%\n"
    }
   },
   "outputs": [],
   "source": [
    "# check if the graph is a clique\n",
    "def is_clique(g, vec, num_vertices):\n",
    "    # active_count: number of vertices that are associated with at least 1 edge\n",
    "    active_count = np.count_nonzero(vec)\n",
    "    # number of edges\n",
    "    edge_sum = find_num_edges(g, num_vertices)\n",
    "    if edge_sum == math.comb(active_count, 3):\n",
    "        return True\n",
    "    return False"
   ]
  },
  {
   "cell_type": "code",
   "execution_count": null,
   "metadata": {
    "pycharm": {
     "is_executing": true,
     "name": "#%%\n"
    }
   },
   "outputs": [],
   "source": [
    "# remove edge\n",
    "def remove_edges(g, num_vertices, vec, curr):\n",
    "    vec[curr] = 0\n",
    "    graph_copy = g.copy()\n",
    "    for j in range(0, num_vertices):\n",
    "        for k in range(0, num_vertices):\n",
    "            if graph_copy[curr, j, k] == 1:\n",
    "                vec[j] -= 1\n",
    "                vec[k] -= 1\n",
    "                remove_all(curr, j, k, graph_copy)\n",
    "    return graph_copy, vec"
   ]
  },
  {
   "cell_type": "markdown",
   "metadata": {},
   "source": [
    "### Generate a graph"
   ]
  },
  {
   "cell_type": "code",
   "execution_count": null,
   "metadata": {
    "collapsed": false,
    "pycharm": {
     "is_executing": true,
     "name": "#%%\n"
    }
   },
   "outputs": [],
   "source": [
    "# driver program\n",
    "\n",
    "n = 1600 # number of vertices\n",
    "p = 0.5 # probablity of edge being included\n",
    "k = 33 # clique size\n",
    "\n",
    "# generate graph\n",
    "res = generate_graph(n, p, k)\n",
    "\n",
    "# G graph with planted clique\n",
    "# V: vector storing the number of edges associated with each vertice in the graph\n",
    "# clique_vertices: the set of clique vertices\n",
    "G, V, clique_vertices = res[0],  res[1], res[-1]\n",
    "\n",
    "# print(f\"graph: {G}\\n\")\n",
    "G_0 = G.copy()\n",
    "print(f\"edge-occurence vector: {V}\\n\")\n",
    "print(f\"clique vertices: {clique_vertices}\\n\")\n",
    "\n"
   ]
  },
  {
   "cell_type": "markdown",
   "metadata": {},
   "source": [
    "### Removal Phase"
   ]
  },
  {
   "cell_type": "code",
   "execution_count": null,
   "metadata": {
    "pycharm": {
     "is_executing": true,
     "name": "#%%\n"
    }
   },
   "outputs": [],
   "source": [
    "iter = 0\n",
    "removed = []\n",
    "\n",
    "clique = is_clique(G, V, n)\n",
    "while not clique:\n",
    "    \n",
    "    iter += 1\n",
    "\n",
    "    curr = -1\n",
    "    idx_sorted = np.argsort(V)\n",
    "    \n",
    "    print(f\"i = {iter}\\nindex sorted: {idx_sorted}\")\n",
    "    print(f\"number of edges associated with each vertex: {V}\")\n",
    "    # print(f'current set of clique vertices: {clique_vertices}')\n",
    "\n",
    "    for idx in range(n):\n",
    "        if V[idx_sorted[idx]] != 0:\n",
    "            curr = idx_sorted[idx]\n",
    "            removed.append(curr)\n",
    "            break\n",
    "    print(f\"vertex removed: {curr} number of edges: {V[curr]}\\n\")\n",
    "    A = remove_edges(G, n, V, curr)\n",
    "    # print(A[1])\n",
    "    G = A[0]\n",
    "\n",
    "    clique = is_clique(G, V, n)\n",
    "print(\"clique!!!\")"
   ]
  },
  {
   "cell_type": "code",
   "execution_count": null,
   "metadata": {},
   "outputs": [],
   "source": [
    "iter"
   ]
  },
  {
   "cell_type": "code",
   "execution_count": null,
   "metadata": {},
   "outputs": [],
   "source": [
    "sorted(removed)"
   ]
  },
  {
   "cell_type": "markdown",
   "metadata": {},
   "source": [
    "### Inclusion Phase"
   ]
  },
  {
   "cell_type": "code",
   "execution_count": null,
   "metadata": {},
   "outputs": [],
   "source": [
    "full_vertices = np.arange(n)\n",
    "full_vertices"
   ]
  },
  {
   "cell_type": "code",
   "execution_count": null,
   "metadata": {},
   "outputs": [],
   "source": [
    "included = np.setdiff1d(full_vertices, removed)\n",
    "included"
   ]
  },
  {
   "cell_type": "code",
   "execution_count": null,
   "metadata": {},
   "outputs": [],
   "source": [
    "def inclusion_phase(removed, in_set, G_0):\n",
    "    def connected(idx, in_set):\n",
    "        for j in range(len(in_set)):\n",
    "                for k in range(j+1, len(in_set)):\n",
    "                    if G_0[idx, in_set[j], in_set[k]] != 1:\n",
    "                        print(f\" vertex {idx} is not connected to all clique vertices\")  \n",
    "                        return False\n",
    "        return True\n",
    "                        \n",
    "    for idx in removed:\n",
    "        if connected(idx, in_set):\n",
    "            print(f\"add {idx} to clique!\")\n",
    "            in_set = np.append(in_set, idx)\n",
    "\n",
    "    return in_set\n",
    "    "
   ]
  },
  {
   "cell_type": "code",
   "execution_count": null,
   "metadata": {},
   "outputs": [],
   "source": [
    "res = inclusion_phase(removed, included, G_0)\n",
    "res"
   ]
  }
 ],
 "metadata": {
  "kernelspec": {
   "display_name": "Python 3.10.1 64-bit",
   "language": "python",
   "name": "python3"
  },
  "language_info": {
   "codemirror_mode": {
    "name": "ipython",
    "version": 3
   },
   "file_extension": ".py",
   "mimetype": "text/x-python",
   "name": "python",
   "nbconvert_exporter": "python",
   "pygments_lexer": "ipython3",
   "version": "3.10.1"
  },
  "vscode": {
   "interpreter": {
    "hash": "aee8b7b246df8f9039afb4144a1f6fd8d2ca17a180786b69acc140d282b71a49"
   }
  }
 },
 "nbformat": 4,
 "nbformat_minor": 0
}
