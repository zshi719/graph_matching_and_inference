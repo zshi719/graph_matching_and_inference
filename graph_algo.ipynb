{
 "cells": [
  {
   "cell_type": "code",
   "execution_count": null,
   "metadata": {
    "collapsed": false,
    "pycharm": {
     "name": "#%%\n",
     "is_executing": true
    }
   },
   "outputs": [],
   "source": [
    "%matplotlib inline\n",
    "import matplotlib.pyplot as plt\n",
    "from itertools import combinations\n",
    "from random import random\n",
    "import numpy as np"
   ]
  },
  {
   "cell_type": "code",
   "execution_count": 116,
   "metadata": {
    "pycharm": {
     "name": "#%%\n"
    }
   },
   "outputs": [
    {
     "data": {
      "text/plain": [
       "(3, 3, 3)"
      ]
     },
     "execution_count": 116,
     "metadata": {},
     "output_type": "execute_result"
    }
   ],
   "source": [
    "x = np.array([[[1, 2, 3],\n",
    "               [4, 5, 6],\n",
    "               [7, 8, 9]],\n",
    "              [[-1, -2, -3],\n",
    "               [-4, -5, -6],\n",
    "               [-7, -8, -9]],\n",
    "               [[1, 2, 3],\n",
    "               [4, 5, 6],\n",
    "               [7, 8, 9]]])\n",
    "x.shape"
   ]
  },
  {
   "cell_type": "code",
   "execution_count": 117,
   "metadata": {
    "pycharm": {
     "name": "#%%\n"
    }
   },
   "outputs": [
    {
     "data": {
      "text/plain": [
       "array([ 1,  2,  3,  4,  5,  6,  7,  8,  9, -1, -2, -3, -4, -5, -6, -7, -8,\n",
       "       -9,  1,  2,  3,  4,  5,  6,  7,  8,  9])"
      ]
     },
     "execution_count": 117,
     "metadata": {},
     "output_type": "execute_result"
    }
   ],
   "source": [
    "y = x.ravel() # flatten out to a 1D array\n",
    "y"
   ]
  },
  {
   "cell_type": "code",
   "execution_count": 118,
   "metadata": {
    "pycharm": {
     "name": "#%%\n"
    }
   },
   "outputs": [
    {
     "name": "stdout",
     "output_type": "stream",
     "text": [
      "-7\n"
     ]
    },
    {
     "data": {
      "text/plain": [
       "15"
      ]
     },
     "execution_count": 118,
     "metadata": {},
     "output_type": "execute_result"
    }
   ],
   "source": [
    "print(x[1,2,0])\n",
    "lin_index = np.where(y == x[1,2,0])\n",
    "lin_index[0][0]"
   ]
  },
  {
   "cell_type": "code",
   "execution_count": 119,
   "metadata": {
    "pycharm": {
     "name": "#%%\n"
    }
   },
   "outputs": [],
   "source": [
    "def find_lin_ind(i, j, k, n):\n",
    "    return (i * n ** 2 + j * n + k)"
   ]
  },
  {
   "cell_type": "code",
   "execution_count": 120,
   "metadata": {
    "collapsed": false,
    "pycharm": {
     "name": "#%%\n"
    }
   },
   "outputs": [],
   "source": [
    "#\n",
    "# Generate n-dimensional tensor\n",
    "#\n",
    "# # n = 3\n",
    "# row = np.array([0 for i in range(0, n)])\n",
    "# # row\n",
    "# x = np.array([np.array([row for i in range(n)]) for i in range(n)])\n",
    "# x\n"
   ]
  },
  {
   "cell_type": "code",
   "execution_count": 121,
   "metadata": {
    "pycharm": {
     "name": "#%%\n"
    }
   },
   "outputs": [],
   "source": [
    "def add_all(i, j, k, g):\n",
    "    g[i, j, k] = 1 \n",
    "    g[i, k, j] = 1      \n",
    "    g[j, i, k] = 1\n",
    "    g[j, k, i] = 1\n",
    "    g[k, i, j] = 1\n",
    "    g[k, j, i] = 1\n",
    "    return(g)"
   ]
  },
  {
   "cell_type": "code",
   "execution_count": 122,
   "metadata": {
    "pycharm": {
     "name": "#%%\n"
    }
   },
   "outputs": [],
   "source": [
    "# g: tensor\n",
    "# n: rank of the tensor\n",
    "# p: probability of creating edges\n",
    "def generate_graph(n, p):  \n",
    "    g = np.array([np.array([np.array([0 for i in range(0, n)]) for i in range(n)]) for i in range(n)])\n",
    "    vec = np.array([0 for i in range(0, n)])\n",
    "    print(vec)\n",
    "    # Set edges\n",
    "    for i in range(n):\n",
    "        for j in range(i+1, n):\n",
    "            for k in range(j+1, n):\n",
    "                a = np.random.rand()\n",
    "                # print(a)\n",
    "                if a < p:\n",
    "                    vec[i] += 1\n",
    "                    vec[j] += 1\n",
    "                    vec[k] += 1\n",
    "                    add_all(i, j, k, g)\n",
    "    return g, vec\n"
   ]
  },
  {
   "cell_type": "code",
   "execution_count": 123,
   "metadata": {
    "pycharm": {
     "name": "#%%\n"
    }
   },
   "outputs": [
    {
     "name": "stdout",
     "output_type": "stream",
     "text": [
      "[0 0 0 0]\n"
     ]
    }
   ],
   "source": [
    "n = 4\n",
    "p = 0.5\n",
    "res = generate_graph(n, p)"
   ]
  },
  {
   "cell_type": "code",
   "execution_count": 124,
   "metadata": {
    "pycharm": {
     "name": "#%%\n"
    }
   },
   "outputs": [
    {
     "data": {
      "text/plain": [
       "array([[[0, 0, 0, 0],\n",
       "        [0, 0, 1, 1],\n",
       "        [0, 1, 0, 0],\n",
       "        [0, 1, 0, 0]],\n",
       "\n",
       "       [[0, 0, 1, 1],\n",
       "        [0, 0, 0, 0],\n",
       "        [1, 0, 0, 1],\n",
       "        [1, 0, 1, 0]],\n",
       "\n",
       "       [[0, 1, 0, 0],\n",
       "        [1, 0, 0, 1],\n",
       "        [0, 0, 0, 0],\n",
       "        [0, 1, 0, 0]],\n",
       "\n",
       "       [[0, 1, 0, 0],\n",
       "        [1, 0, 1, 0],\n",
       "        [0, 1, 0, 0],\n",
       "        [0, 0, 0, 0]]])"
      ]
     },
     "execution_count": 124,
     "metadata": {},
     "output_type": "execute_result"
    }
   ],
   "source": [
    "res[0]"
   ]
  },
  {
   "cell_type": "code",
   "execution_count": 125,
   "metadata": {
    "pycharm": {
     "name": "#%%\n"
    }
   },
   "outputs": [
    {
     "data": {
      "text/plain": [
       "array([2, 3, 2, 2])"
      ]
     },
     "execution_count": 125,
     "metadata": {},
     "output_type": "execute_result"
    }
   ],
   "source": [
    "V = res[1]\n",
    "V"
   ]
  },
  {
   "cell_type": "code",
   "execution_count": 126,
   "metadata": {
    "pycharm": {
     "name": "#%%\n"
    }
   },
   "outputs": [
    {
     "data": {
      "text/plain": [
       "array([1, 3, 2, 0])"
      ]
     },
     "execution_count": 126,
     "metadata": {},
     "output_type": "execute_result"
    }
   ],
   "source": [
    "np.flip(np.argsort(V)) # sort the indices\n"
   ]
  },
  {
   "cell_type": "code",
   "execution_count": 127,
   "metadata": {
    "pycharm": {
     "name": "#%%\n"
    }
   },
   "outputs": [],
   "source": [
    "def remove_all(i, j, k, g):\n",
    "    g[i, j, k] = 0 \n",
    "    g[i, k, j] = 0      \n",
    "    g[j, i, k] = 0\n",
    "    g[j, k, i] = 0\n",
    "    g[k, i, j] = 0\n",
    "    g[k, j, i] = 0\n",
    "    return(g)\n"
   ]
  },
  {
   "cell_type": "code",
   "execution_count": 128,
   "metadata": {
    "pycharm": {
     "name": "#%%\n"
    }
   },
   "outputs": [],
   "source": [
    "# remove edge\n",
    "def remove_edges(g, n, vec, curr):\n",
    "    vec[curr] = 0\n",
    "    A = g.copy()\n",
    "    for j in range(0, n):\n",
    "        for k in range(0, n):\n",
    "            if A[curr, j, k] == 1:\n",
    "                vec[j] -= 1\n",
    "                vec[k] -= 1\n",
    "                remove_all(curr, j, k, A)\n",
    "    return(A)\n"
   ]
  },
  {
   "cell_type": "code",
   "execution_count": 136,
   "metadata": {
    "pycharm": {
     "name": "#%%\n"
    }
   },
   "outputs": [
    {
     "data": {
      "text/plain": [
       "array([[[0, 0, 0, 0],\n",
       "        [0, 0, 0, 1],\n",
       "        [0, 0, 0, 0],\n",
       "        [0, 1, 0, 0]],\n",
       "\n",
       "       [[0, 0, 0, 1],\n",
       "        [0, 0, 0, 0],\n",
       "        [0, 0, 0, 0],\n",
       "        [1, 0, 0, 0]],\n",
       "\n",
       "       [[0, 0, 0, 0],\n",
       "        [0, 0, 0, 0],\n",
       "        [0, 0, 0, 0],\n",
       "        [0, 0, 0, 0]],\n",
       "\n",
       "       [[0, 1, 0, 0],\n",
       "        [1, 0, 0, 0],\n",
       "        [0, 0, 0, 0],\n",
       "        [0, 0, 0, 0]]])"
      ]
     },
     "execution_count": 136,
     "metadata": {},
     "output_type": "execute_result"
    }
   ],
   "source": [
    "remove_edges(G, n, V, V[0])"
   ]
  },
  {
   "cell_type": "code",
   "execution_count": 130,
   "metadata": {
    "pycharm": {
     "name": "#%%\n"
    }
   },
   "outputs": [
    {
     "data": {
      "text/plain": [
       "array([[[0, 0, 0, 0],\n",
       "        [0, 0, 1, 1],\n",
       "        [0, 1, 0, 0],\n",
       "        [0, 1, 0, 0]],\n",
       "\n",
       "       [[0, 0, 1, 1],\n",
       "        [0, 0, 0, 0],\n",
       "        [1, 0, 0, 1],\n",
       "        [1, 0, 1, 0]],\n",
       "\n",
       "       [[0, 1, 0, 0],\n",
       "        [1, 0, 0, 1],\n",
       "        [0, 0, 0, 0],\n",
       "        [0, 1, 0, 0]],\n",
       "\n",
       "       [[0, 1, 0, 0],\n",
       "        [1, 0, 1, 0],\n",
       "        [0, 1, 0, 0],\n",
       "        [0, 0, 0, 0]]])"
      ]
     },
     "execution_count": 130,
     "metadata": {},
     "output_type": "execute_result"
    }
   ],
   "source": [
    "G = res[0]\n",
    "G"
   ]
  },
  {
   "cell_type": "code",
   "execution_count": null,
   "metadata": {
    "pycharm": {
     "name": "#%%\n"
    }
   },
   "outputs": [],
   "source": [
    "active_count\n",
    "edge_sum"
   ]
  },
  {
   "cell_type": "code",
   "execution_count": null,
   "metadata": {
    "pycharm": {
     "name": "#%%\n"
    }
   },
   "outputs": [],
   "source": [
    "def is_clique(g, n):\n",
    "    active_count = 0\n",
    "    edge_sum = 0\n",
    "     for i in range(n):\n",
    "        for j in range(i+1, n):\n",
    "            for k in range(j+1, n):\n",
    "                if g[i, j, k]"
   ]
  },
  {
   "cell_type": "code",
   "execution_count": null,
   "metadata": {
    "pycharm": {
     "name": "#%%\n"
    }
   },
   "outputs": [],
   "source": []
  },
  {
   "cell_type": "code",
   "execution_count": null,
   "metadata": {
    "pycharm": {
     "name": "#%%\n"
    }
   },
   "outputs": [],
   "source": []
  }
 ],
 "metadata": {
  "kernelspec": {
   "display_name": "Python 3.10.1 64-bit",
   "language": "python",
   "name": "python3"
  },
  "language_info": {
   "codemirror_mode": {
    "name": "ipython",
    "version": 3
   },
   "file_extension": ".py",
   "mimetype": "text/x-python",
   "name": "python",
   "nbconvert_exporter": "python",
   "pygments_lexer": "ipython3",
   "version": "3.10.1"
  },
  "vscode": {
   "interpreter": {
    "hash": "aee8b7b246df8f9039afb4144a1f6fd8d2ca17a180786b69acc140d282b71a49"
   }
  }
 },
 "nbformat": 4,
 "nbformat_minor": 0
}