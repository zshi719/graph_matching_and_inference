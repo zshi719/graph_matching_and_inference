{
 "cells": [
  {
   "cell_type": "code",
   "execution_count": 513,
   "metadata": {
    "collapsed": false,
    "pycharm": {
     "is_executing": true,
     "name": "#%%\n"
    }
   },
   "outputs": [],
   "source": [
    "from random import random\n",
    "import numpy as np\n",
    "from itertools import combinations\n",
    "import math\n",
    "import random"
   ]
  },
  {
   "cell_type": "code",
   "execution_count": 514,
   "metadata": {
    "pycharm": {
     "is_executing": true,
     "name": "#%%\n"
    }
   },
   "outputs": [],
   "source": [
    "# increment the degree of each vertex on graph g by 1\n",
    "def add_all(i, j, k, g):\n",
    "    g[i, j, k] = 1\n",
    "    g[i, k, j] = 1\n",
    "    g[j, i, k] = 1\n",
    "    g[j, k, i] = 1\n",
    "    g[k, i, j] = 1\n",
    "    g[k, j, i] = 1\n",
    "    return g"
   ]
  },
  {
   "cell_type": "code",
   "execution_count": 515,
   "metadata": {
    "pycharm": {
     "is_executing": true,
     "name": "#%%\n"
    }
   },
   "outputs": [],
   "source": [
    "# decrement the degree of each vertex on graph g to 0\n",
    "def remove_all(i, j, k, g):\n",
    "    g[i, j, k] = 0\n",
    "    g[i, k, j] = 0\n",
    "    g[j, i, k] = 0\n",
    "    g[j, k, i] = 0\n",
    "    g[k, i, j] = 0\n",
    "    g[k, j, i] = 0\n",
    "    return g\n"
   ]
  },
  {
   "cell_type": "code",
   "execution_count": 516,
   "metadata": {
    "pycharm": {
     "is_executing": true,
     "name": "#%%\n"
    }
   },
   "outputs": [],
   "source": [
    "### create a graph with planted clique of size = clique_size\n",
    "\n",
    "# g: graph (represented as a tensor)\n",
    "# num_vertices: number of vertices on the graph (dimension, or rank of the tensor) \n",
    "# pr: probability of creating edges\n",
    "# clique_size: clique size\n",
    "\n",
    "def generate_graph(num_vertices, pr, clique_size):\n",
    "    def plant_clique():\n",
    "        for i in range(clique_size):\n",
    "            for j in range(i + 1, clique_size):\n",
    "                for l in range(j + 1, clique_size):\n",
    "                    a = clique_vertices[i]\n",
    "                    # print(a)\n",
    "                    vec[a] += 1\n",
    "                    b = clique_vertices[j]\n",
    "                    # print(b)\n",
    "                    vec[b] += 1\n",
    "                    c = clique_vertices[l]\n",
    "                    # print(c)\n",
    "                    vec[c] += 1\n",
    "                    add_all(a, b, c, g)\n",
    "\n",
    "    g = np.array([np.array([np.array([0 for i in range(0, num_vertices)]) for i in range(num_vertices)]) for i in\n",
    "                  range(num_vertices)])\n",
    "    vec = np.array([0 for i in range(0, num_vertices)])\n",
    "\n",
    "    # Set edges\n",
    "    for i in range(num_vertices):\n",
    "        for j in range(i + 1, num_vertices):\n",
    "            for k in range(j + 1, num_vertices):\n",
    "                a = np.random.uniform(0, 1, 1)\n",
    "                # every edge is included independently with probability 1/2\n",
    "                if a < pr:\n",
    "                    vec[i] += 1\n",
    "                    vec[j] += 1\n",
    "                    vec[k] += 1\n",
    "                    add_all(i, j, k, g)\n",
    "\n",
    "    # clique_vertices = random.sample(range(num_vertices), clique_size) # is is wrong??; would violate the clique size constraint\n",
    "    \n",
    "    clique_vertices = np.random.choice(range(num_vertices), clique_size, replace=False)\n",
    "\n",
    "    plant_clique()\n",
    "\n",
    "    return g, vec, clique_vertices\n"
   ]
  },
  {
   "cell_type": "code",
   "execution_count": 517,
   "metadata": {},
   "outputs": [],
   "source": [
    "# lst = np.random.choice(range(10), 5, replace=False)\n",
    "# lst"
   ]
  },
  {
   "cell_type": "code",
   "execution_count": 518,
   "metadata": {
    "collapsed": false,
    "pycharm": {
     "is_executing": true,
     "name": "#%%\n"
    }
   },
   "outputs": [],
   "source": [
    "# calculate the total number of edges on a graph with num_vertices vertices\n",
    "def find_num_edges(g, num_vertices):\n",
    "    num_edges = 0\n",
    "    for i in range(num_vertices):\n",
    "        for j in range(i + 1, num_vertices):\n",
    "            for k in range(j + 1, num_vertices):\n",
    "                if g[i, j, k] == 1:\n",
    "                    num_edges += 1\n",
    "    return num_edges"
   ]
  },
  {
   "cell_type": "code",
   "execution_count": 519,
   "metadata": {
    "pycharm": {
     "is_executing": true,
     "name": "#%%\n"
    }
   },
   "outputs": [],
   "source": [
    "# check if the graph is a clique\n",
    "def is_clique(g, vec, num_vertices):\n",
    "    # active_count: number of vertices that are associated with at least 1 edge\n",
    "    active_count = np.count_nonzero(vec)\n",
    "    # number of edges\n",
    "    edge_sum = find_num_edges(g, num_vertices)\n",
    "    if edge_sum == 6 * math.comb(active_count, 3):\n",
    "        return True\n",
    "    return False"
   ]
  },
  {
   "cell_type": "code",
   "execution_count": 520,
   "metadata": {
    "pycharm": {
     "is_executing": true,
     "name": "#%%\n"
    }
   },
   "outputs": [],
   "source": [
    "# remove edge\n",
    "def remove_edges(g, num_vertices, vec, curr):\n",
    "    vec[curr] = 0\n",
    "    graph_copy = g.copy()\n",
    "    for j in range(0, num_vertices):\n",
    "        for k in range(0, num_vertices):\n",
    "            if graph_copy[curr, j, k] == 1:\n",
    "                vec[j] -= 1\n",
    "                vec[k] -= 1\n",
    "                remove_all(curr, j, k, graph_copy)\n",
    "    return graph_copy, vec"
   ]
  },
  {
   "cell_type": "markdown",
   "metadata": {},
   "source": [
    "### Generate a graph"
   ]
  },
  {
   "cell_type": "code",
   "execution_count": 521,
   "metadata": {
    "collapsed": false,
    "pycharm": {
     "is_executing": true,
     "name": "#%%\n"
    }
   },
   "outputs": [
    {
     "name": "stdout",
     "output_type": "stream",
     "text": [
      "edge-occurence vector: [17 20 21 16 22 27 24 23 26 17]\n",
      "\n",
      "clique vertices: [5 6 2 8 7]\n",
      "\n"
     ]
    }
   ],
   "source": [
    "# driver program\n",
    "\n",
    "n = 10 # number of vertices\n",
    "p = 0.5 # probablity of edge being included\n",
    "k = 5 # clique size\n",
    "\n",
    "# generate graph\n",
    "res = generate_graph(n, p, k)\n",
    "\n",
    "# G graph with planted clique\n",
    "# V: vector storing the number of edges associated with each vertice in the graph\n",
    "# clique_vertices: the set of clique vertices\n",
    "G, V, clique_vertices = res[0],  res[1], res[-1]\n",
    "\n",
    "# print(f\"graph: {G}\\n\")\n",
    "print(f\"edge-occurence vector: {V}\\n\")\n",
    "print(f\"clique vertices: {clique_vertices}\\n\")\n",
    "\n"
   ]
  },
  {
   "cell_type": "markdown",
   "metadata": {},
   "source": [
    "### Removal Phase"
   ]
  },
  {
   "cell_type": "code",
   "execution_count": 522,
   "metadata": {
    "pycharm": {
     "is_executing": true,
     "name": "#%%\n"
    }
   },
   "outputs": [
    {
     "name": "stdout",
     "output_type": "stream",
     "text": [
      "i = 1\n",
      "index sorted: [3 0 9 1 2 4 7 6 8 5]\n",
      "number of edges associated with each vertex: [17 20 21 16 22 27 24 23 26 17]\n",
      "vertex removed: 3 number of edges: 16\n",
      "\n",
      "i = 2\n",
      "index sorted: [3 9 0 1 2 4 6 7 8 5]\n",
      "number of edges associated with each vertex: [14 17 18  0 18 23 20 21 22 12]\n",
      "vertex removed: 9 number of edges: 12\n",
      "\n",
      "i = 3\n",
      "index sorted: [3 9 0 1 4 2 7 6 8 5]\n",
      "number of edges associated with each vertex: [10 12 17  0 14 20 19 18 19  0]\n",
      "vertex removed: 0 number of edges: 10\n",
      "\n",
      "i = 4\n",
      "index sorted: [0 3 9 1 4 7 2 8 6 5]\n",
      "number of edges associated with each vertex: [ 0 10 15  0 11 18 16 14 15  0]\n",
      "vertex removed: 1 number of edges: 10\n",
      "\n",
      "i = 5\n",
      "index sorted: [0 1 3 9 4 7 2 8 6 5]\n",
      "number of edges associated with each vertex: [ 0  0 12  0  7 14 13 11 12  0]\n",
      "vertex removed: 4 number of edges: 7\n",
      "\n",
      "i = 6\n",
      "index sorted: [0 1 3 4 9 7 2 5 6 8]\n",
      "number of edges associated with each vertex: [ 0  0  9  0  0 10 10  8 11  0]\n",
      "vertex removed: 7 number of edges: 8\n",
      "\n",
      "i = 7\n",
      "index sorted: [0 1 3 4 7 9 2 5 6 8]\n",
      "number of edges associated with each vertex: [0 0 6 0 0 7 7 0 8 0]\n",
      "vertex removed: 2 number of edges: 6\n",
      "\n",
      "i = 8\n",
      "index sorted: [0 1 2 3 4 7 9 5 6 8]\n",
      "number of edges associated with each vertex: [0 0 0 0 0 5 5 0 6 0]\n",
      "vertex removed: 5 number of edges: 5\n",
      "\n"
     ]
    }
   ],
   "source": [
    "clique = False\n",
    "iter = 0\n",
    "removed = []\n",
    "while not clique:\n",
    "    \n",
    "    iter += 1\n",
    "\n",
    "    curr = -1\n",
    "    idx_sorted = np.argsort(V)\n",
    "    \n",
    "    print(f\"i = {iter}\\nindex sorted: {idx_sorted}\")\n",
    "    print(f\"number of edges associated with each vertex: {V}\")\n",
    "    # print(f'current set of clique vertices: {clique_vertices}')\n",
    "\n",
    "    for idx in range(n):\n",
    "        if V[idx_sorted[idx]] != 0:\n",
    "            curr = idx_sorted[idx]\n",
    "            removed.append(curr)\n",
    "            break\n",
    "    print(f\"vertex removed: {curr} number of edges: {V[curr]}\\n\")\n",
    "    A = remove_edges(G, n, V, curr)\n",
    "    # print(A[1])\n",
    "    G = A[0]\n",
    "\n",
    "    clique = is_clique(G, V, n)"
   ]
  },
  {
   "cell_type": "code",
   "execution_count": 523,
   "metadata": {},
   "outputs": [
    {
     "data": {
      "text/plain": [
       "[3, 9, 0, 1, 4, 7, 2, 5]"
      ]
     },
     "execution_count": 523,
     "metadata": {},
     "output_type": "execute_result"
    }
   ],
   "source": [
    "removed"
   ]
  },
  {
   "cell_type": "code",
   "execution_count": 524,
   "metadata": {
    "collapsed": false,
    "pycharm": {
     "name": "#%%\n"
    }
   },
   "outputs": [
    {
     "data": {
      "text/plain": [
       "array([5, 6, 2, 8, 7])"
      ]
     },
     "execution_count": 524,
     "metadata": {},
     "output_type": "execute_result"
    }
   ],
   "source": [
    "clique_v = res[-1]\n",
    "clique_v"
   ]
  },
  {
   "cell_type": "markdown",
   "metadata": {},
   "source": [
    "### Inclusion Phase"
   ]
  },
  {
   "cell_type": "code",
   "execution_count": 525,
   "metadata": {},
   "outputs": [
    {
     "data": {
      "text/plain": [
       "array([5, 6, 2, 8, 7])"
      ]
     },
     "execution_count": 525,
     "metadata": {},
     "output_type": "execute_result"
    }
   ],
   "source": [
    "clique_vertices"
   ]
  },
  {
   "cell_type": "code",
   "execution_count": 526,
   "metadata": {},
   "outputs": [
    {
     "data": {
      "text/plain": [
       "array([0, 1, 2, 3, 4, 5, 6, 7, 8, 9])"
      ]
     },
     "execution_count": 526,
     "metadata": {},
     "output_type": "execute_result"
    }
   ],
   "source": [
    "full_vertices = np.arange(n)\n",
    "full_vertices"
   ]
  },
  {
   "cell_type": "code",
   "execution_count": 527,
   "metadata": {},
   "outputs": [
    {
     "data": {
      "text/plain": [
       "array([0, 1, 3, 4, 9])"
      ]
     },
     "execution_count": 527,
     "metadata": {},
     "output_type": "execute_result"
    }
   ],
   "source": [
    "set_diff = np.setdiff1d(full_vertices, clique_vertices)\n",
    "set_diff"
   ]
  },
  {
   "cell_type": "code",
   "execution_count": 528,
   "metadata": {},
   "outputs": [],
   "source": [
    "def inclusion_phase(set_diff, clique_vertices, G):\n",
    "    for idx in set_diff:\n",
    "        for j in range(len(clique_vertices)):\n",
    "            for k in range(j+1, len(clique_vertices)):\n",
    "                if G[idx, clique_vertices[j], clique_vertices[k]] != 1:\n",
    "                    print(f\" vertex {idx} is not connected to all clique vertices\")    \n",
    "                    if idx == set_diff[-1]:\n",
    "                        print(\"reached the last element\")\n",
    "                        return clique_vertices\n",
    "                    break\n",
    "    print(f\"add {idx} to clique!\")\n",
    "    clique_vertices = np.append(clique_vertices, idx)\n",
    "    return clique_vertices\n",
    "    "
   ]
  },
  {
   "cell_type": "code",
   "execution_count": 529,
   "metadata": {},
   "outputs": [
    {
     "name": "stdout",
     "output_type": "stream",
     "text": [
      " vertex 0 is not connected to all clique vertices\n",
      " vertex 0 is not connected to all clique vertices\n",
      " vertex 0 is not connected to all clique vertices\n",
      " vertex 0 is not connected to all clique vertices\n",
      " vertex 1 is not connected to all clique vertices\n",
      " vertex 1 is not connected to all clique vertices\n",
      " vertex 1 is not connected to all clique vertices\n",
      " vertex 1 is not connected to all clique vertices\n",
      " vertex 3 is not connected to all clique vertices\n",
      " vertex 3 is not connected to all clique vertices\n",
      " vertex 3 is not connected to all clique vertices\n",
      " vertex 3 is not connected to all clique vertices\n",
      " vertex 4 is not connected to all clique vertices\n",
      " vertex 4 is not connected to all clique vertices\n",
      " vertex 4 is not connected to all clique vertices\n",
      " vertex 4 is not connected to all clique vertices\n",
      " vertex 9 is not connected to all clique vertices\n",
      "reached the last element\n"
     ]
    },
    {
     "data": {
      "text/plain": [
       "array([5, 6, 2, 8, 7])"
      ]
     },
     "execution_count": 529,
     "metadata": {},
     "output_type": "execute_result"
    }
   ],
   "source": [
    "res = inclusion_phase(set_diff, clique_vertices, G)\n",
    "res"
   ]
  },
  {
   "cell_type": "code",
   "execution_count": 530,
   "metadata": {},
   "outputs": [
    {
     "data": {
      "text/plain": [
       "array([5, 6, 2, 8, 7])"
      ]
     },
     "execution_count": 530,
     "metadata": {},
     "output_type": "execute_result"
    }
   ],
   "source": [
    "clique_vertices"
   ]
  }
 ],
 "metadata": {
  "kernelspec": {
   "display_name": "Python 3.10.1 64-bit",
   "language": "python",
   "name": "python3"
  },
  "language_info": {
   "codemirror_mode": {
    "name": "ipython",
    "version": 3
   },
   "file_extension": ".py",
   "mimetype": "text/x-python",
   "name": "python",
   "nbconvert_exporter": "python",
   "pygments_lexer": "ipython3",
   "version": "3.10.1"
  },
  "vscode": {
   "interpreter": {
    "hash": "aee8b7b246df8f9039afb4144a1f6fd8d2ca17a180786b69acc140d282b71a49"
   }
  }
 },
 "nbformat": 4,
 "nbformat_minor": 0
}
