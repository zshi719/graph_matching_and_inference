{
 "cells": [
  {
   "cell_type": "code",
   "execution_count": 92,
   "metadata": {
    "collapsed": false
   },
   "outputs": [],
   "source": [
    "%matplotlib inline\n",
    "import matplotlib.pyplot as plt\n",
    "from itertools import combinations\n",
    "from random import random\n",
    "import numpy as np"
   ]
  },
  {
   "cell_type": "code",
   "execution_count": 93,
   "metadata": {},
   "outputs": [
    {
     "data": {
      "text/plain": [
       "(3, 3, 3)"
      ]
     },
     "execution_count": 93,
     "metadata": {},
     "output_type": "execute_result"
    }
   ],
   "source": [
    "x = np.array([[[1, 2, 3],\n",
    "               [4, 5, 6],\n",
    "               [7, 8, 9]],\n",
    "              [[-1, -2, -3],\n",
    "               [-4, -5, -6],\n",
    "               [-7, -8, -9]],\n",
    "               [[1, 2, 3],\n",
    "               [4, 5, 6],\n",
    "               [7, 8, 9]]])\n",
    "x.shape"
   ]
  },
  {
   "cell_type": "code",
   "execution_count": 94,
   "metadata": {},
   "outputs": [
    {
     "data": {
      "text/plain": [
       "array([ 1,  2,  3,  4,  5,  6,  7,  8,  9, -1, -2, -3, -4, -5, -6, -7, -8,\n",
       "       -9,  1,  2,  3,  4,  5,  6,  7,  8,  9])"
      ]
     },
     "execution_count": 94,
     "metadata": {},
     "output_type": "execute_result"
    }
   ],
   "source": [
    "y = x.ravel() # flatten out to a 1D array\n",
    "y"
   ]
  },
  {
   "cell_type": "code",
   "execution_count": 95,
   "metadata": {},
   "outputs": [
    {
     "name": "stdout",
     "output_type": "stream",
     "text": [
      "-7\n"
     ]
    },
    {
     "data": {
      "text/plain": [
       "15"
      ]
     },
     "execution_count": 95,
     "metadata": {},
     "output_type": "execute_result"
    }
   ],
   "source": [
    "print(x[1,2,0])\n",
    "lin_index = np.where(y == x[1,2,0])\n",
    "lin_index[0][0]"
   ]
  },
  {
   "cell_type": "code",
   "execution_count": 96,
   "metadata": {},
   "outputs": [],
   "source": [
    "def find_lin_ind(i, j, k, n):\n",
    "    return (i * n ** 2 + j * n + k)"
   ]
  },
  {
   "cell_type": "code",
   "execution_count": 97,
   "metadata": {
    "collapsed": false
   },
   "outputs": [],
   "source": [
    "#\n",
    "# Generate n-dimensional tensor\n",
    "#\n",
    "# # n = 3\n",
    "# row = np.array([0 for i in range(0, n)])\n",
    "# # row\n",
    "# x = np.array([np.array([row for i in range(n)]) for i in range(n)])\n",
    "# x\n"
   ]
  },
  {
   "cell_type": "code",
   "execution_count": 130,
   "metadata": {},
   "outputs": [],
   "source": [
    "# g: tensor\n",
    "# n: rank of the tensor\n",
    "# p: probability of creating edges\n",
    "node_val = {}\n",
    "def generate_graph(n, p):\n",
    "    # def add_to_dic(ind):\n",
    "    #     if g[i, j, k] not in node_val.keys():\n",
    "    #                     node_val.append((g[i, j, k[]: 1))\n",
    "    #                 else:\n",
    "    #                     node_val.[g[i, j, k]]= 1\n",
    "    #                 print(vec)\n",
    "    # Generate n-dimensional tensor\n",
    "    # row = np.array([0 for i in range(0, n)])\n",
    "    g = np.array([np.array([np.array([0 for i in range(0, n)]) for i in range(n)]) for i in range(n)])\n",
    "\n",
    "    # generate 1-by-n^3 vector to track every node; 1 if included in a graph\n",
    "    vec = g.ravel()\n",
    "    print(vec)\n",
    "\n",
    "    # Set edges\n",
    "    for i in range(n):\n",
    "        for j in range(n):\n",
    "            for k in range(n):\n",
    "                a = np.random.rand()\n",
    "                # print(a)\n",
    "                if a < p:\n",
    "                    g[i, j, k] = 1\n",
    "                    print(g)\n",
    "                    vec[find_lin_ind(i, j, k, n)] += 1\n",
    "                    if g[i, j, k] not in node_val.keys():\n",
    "                        node_val[find_lin_ind(i, j, k, n)] += 1\n",
    "                    else:\n",
    "                        node_val[find_lin_ind(i, j, k, n)].append(1)\n",
    "               \n",
    "                    \n",
    "                    g[i, k, j] = 1\n",
    "                    vec[find_lin_ind(i, k, j, n)] += 1\n",
    "                    if g[i, j, k] not in node_val.keys():\n",
    "                        node_val[find_lin_ind(i, j, k, n)] += 1\n",
    "                    else:\n",
    "                        node_val[find_lin_ind(i, j, k, n)].append(1)\n",
    "                        \n",
    "                    g[j, i, k] = 1\n",
    "                    vec[find_lin_ind(j, i, k,n)] += 1\n",
    "                    g[j, k, i] = 1\n",
    "                    vec[find_lin_ind(j, k, i, n)] += 1\n",
    "                    g[k, i, j] = 1\n",
    "                    vec[find_lin_ind(k, i, j, n)] += 1\n",
    "                    g[k, j, i] = 1\n",
    "                    vec[find_lin_ind(k, j, i, n)] += 1\n",
    "    return g, vec, node_val\n"
   ]
  },
  {
   "cell_type": "code",
   "execution_count": 131,
   "metadata": {},
   "outputs": [
    {
     "name": "stdout",
     "output_type": "stream",
     "text": [
      "[0 0 0 0 0 0 0 0 0 0 0 0 0 0 0 0 0 0 0 0 0 0 0 0 0 0 0]\n",
      "[[[1 0 0]\n",
      "  [0 0 0]\n",
      "  [0 0 0]]\n",
      "\n",
      " [[0 0 0]\n",
      "  [0 0 0]\n",
      "  [0 0 0]]\n",
      "\n",
      " [[0 0 0]\n",
      "  [0 0 0]\n",
      "  [0 0 0]]]\n"
     ]
    },
    {
     "ename": "KeyError",
     "evalue": "0",
     "output_type": "error",
     "traceback": [
      "\u001b[0;31m---------------------------------------------------------------------------\u001b[0m",
      "\u001b[0;31mKeyError\u001b[0m                                  Traceback (most recent call last)",
      "\u001b[1;32m/Users/victoriashi/PythonProjects/Graph/graph_algo.ipynb Cell 8\u001b[0m in \u001b[0;36m<cell line: 3>\u001b[0;34m()\u001b[0m\n\u001b[1;32m      <a href='vscode-notebook-cell:/Users/victoriashi/PythonProjects/Graph/graph_algo.ipynb#X11sZmlsZQ%3D%3D?line=0'>1</a>\u001b[0m n \u001b[39m=\u001b[39m \u001b[39m3\u001b[39m\n\u001b[1;32m      <a href='vscode-notebook-cell:/Users/victoriashi/PythonProjects/Graph/graph_algo.ipynb#X11sZmlsZQ%3D%3D?line=1'>2</a>\u001b[0m p \u001b[39m=\u001b[39m \u001b[39m0.5\u001b[39m\n\u001b[0;32m----> <a href='vscode-notebook-cell:/Users/victoriashi/PythonProjects/Graph/graph_algo.ipynb#X11sZmlsZQ%3D%3D?line=2'>3</a>\u001b[0m res \u001b[39m=\u001b[39m generate_graph(\u001b[39m3\u001b[39;49m, \u001b[39m0.5\u001b[39;49m)\n\u001b[1;32m      <a href='vscode-notebook-cell:/Users/victoriashi/PythonProjects/Graph/graph_algo.ipynb#X11sZmlsZQ%3D%3D?line=3'>4</a>\u001b[0m G \u001b[39m=\u001b[39m res[\u001b[39m0\u001b[39m]\n\u001b[1;32m      <a href='vscode-notebook-cell:/Users/victoriashi/PythonProjects/Graph/graph_algo.ipynb#X11sZmlsZQ%3D%3D?line=4'>5</a>\u001b[0m node_val \u001b[39m=\u001b[39m res[\u001b[39m2\u001b[39m]\n",
      "\u001b[1;32m/Users/victoriashi/PythonProjects/Graph/graph_algo.ipynb Cell 8\u001b[0m in \u001b[0;36mgenerate_graph\u001b[0;34m(n, p)\u001b[0m\n\u001b[1;32m     <a href='vscode-notebook-cell:/Users/victoriashi/PythonProjects/Graph/graph_algo.ipynb#X11sZmlsZQ%3D%3D?line=28'>29</a>\u001b[0m vec[find_lin_ind(i, j, k, n)] \u001b[39m+\u001b[39m\u001b[39m=\u001b[39m \u001b[39m1\u001b[39m\n\u001b[1;32m     <a href='vscode-notebook-cell:/Users/victoriashi/PythonProjects/Graph/graph_algo.ipynb#X11sZmlsZQ%3D%3D?line=29'>30</a>\u001b[0m \u001b[39mif\u001b[39;00m g[i, j, k] \u001b[39mnot\u001b[39;00m \u001b[39min\u001b[39;00m node_val\u001b[39m.\u001b[39mkeys():\n\u001b[0;32m---> <a href='vscode-notebook-cell:/Users/victoriashi/PythonProjects/Graph/graph_algo.ipynb#X11sZmlsZQ%3D%3D?line=30'>31</a>\u001b[0m     node_val[find_lin_ind(i, j, k, n)] \u001b[39m+\u001b[39m\u001b[39m=\u001b[39m \u001b[39m1\u001b[39m\n\u001b[1;32m     <a href='vscode-notebook-cell:/Users/victoriashi/PythonProjects/Graph/graph_algo.ipynb#X11sZmlsZQ%3D%3D?line=31'>32</a>\u001b[0m \u001b[39melse\u001b[39;00m:\n\u001b[1;32m     <a href='vscode-notebook-cell:/Users/victoriashi/PythonProjects/Graph/graph_algo.ipynb#X11sZmlsZQ%3D%3D?line=32'>33</a>\u001b[0m     node_val[find_lin_ind(i, j, k, n)]\u001b[39m.\u001b[39mappend(\u001b[39m1\u001b[39m)\n",
      "\u001b[0;31mKeyError\u001b[0m: 0"
     ]
    }
   ],
   "source": [
    "n = 3\n",
    "p = 0.5\n",
    "res = generate_graph(3, 0.5)\n",
    "G = res[0]\n",
    "node_val = res[2]"
   ]
  },
  {
   "cell_type": "code",
   "execution_count": 103,
   "metadata": {},
   "outputs": [
    {
     "data": {
      "text/plain": [
       "array([0, 2, 2, 2, 2, 2, 2, 2, 0, 2, 2, 2, 2, 2, 2, 2, 2, 0, 2, 2, 0, 2,\n",
       "       2, 0, 0, 0, 2])"
      ]
     },
     "execution_count": 103,
     "metadata": {},
     "output_type": "execute_result"
    }
   ],
   "source": [
    "vec = res[1]\n",
    "vec"
   ]
  },
  {
   "cell_type": "code",
   "execution_count": 106,
   "metadata": {},
   "outputs": [
    {
     "data": {
      "text/plain": [
       "array([2, 2, 2, 2, 2, 2, 2, 2, 2, 2, 2, 2, 2, 2, 2, 2, 2, 2, 2, 2, 0, 0,\n",
       "       0, 0, 0, 0, 0])"
      ]
     },
     "execution_count": 106,
     "metadata": {},
     "output_type": "execute_result"
    }
   ],
   "source": [
    "np.sort(vec)\n",
    "reversed = np.sort(vec)[::-1]\n",
    "reversed"
   ]
  },
  {
   "cell_type": "code",
   "execution_count": 107,
   "metadata": {},
   "outputs": [],
   "source": [
    "begin = reversed[0]"
   ]
  },
  {
   "cell_type": "code",
   "execution_count": null,
   "metadata": {},
   "outputs": [],
   "source": [
    "import random\n",
    "\n",
    "# n: size\n",
    "# order: k\n",
    "def generate_random_hypergraph(order, n):\n",
    "    nodes = set(range(order))\n",
    "    edges = set()\n",
    "    while len(edges) < size:\n",
    "        edge_size = random.randint(2, order)\n",
    "        edge = frozenset(random.sample(nodes, k=edge_size))\n",
    "        if edge not in edges:\n",
    "          edges.add(edge)\n",
    "    return {'nodes': nodes, 'edges': edges}"
   ]
  },
  {
   "cell_type": "code",
   "execution_count": null,
   "metadata": {},
   "outputs": [
    {
     "name": "stdout",
     "output_type": "stream",
     "text": [
      "[0, 0, 0, 0, 0, 0, 0, 0, 0, 0, 0, 0, 0, 0, 0, 0, 0, 0, 0, 0]\n",
      "[[0. 0. 0. 0. 0. 0. 0. 0. 0. 0. 0. 0. 0. 0. 0. 0. 0. 0. 0. 0.]\n",
      " [0. 0. 0. 0. 0. 0. 0. 0. 0. 0. 0. 0. 0. 0. 0. 0. 0. 0. 0. 0.]\n",
      " [0. 0. 0. 0. 0. 0. 0. 0. 0. 0. 0. 0. 0. 0. 0. 0. 0. 0. 0. 0.]\n",
      " [0. 0. 0. 0. 0. 0. 0. 0. 0. 0. 0. 0. 0. 0. 0. 0. 0. 0. 0. 0.]\n",
      " [0. 0. 0. 0. 0. 0. 0. 0. 0. 0. 0. 0. 0. 0. 0. 0. 0. 0. 0. 0.]\n",
      " [0. 0. 0. 0. 0. 0. 0. 0. 0. 0. 0. 0. 0. 0. 0. 0. 0. 0. 0. 0.]\n",
      " [0. 0. 0. 0. 0. 0. 0. 0. 0. 0. 0. 0. 0. 0. 0. 0. 0. 0. 0. 0.]\n",
      " [0. 0. 0. 0. 0. 0. 0. 0. 0. 0. 0. 0. 0. 0. 0. 0. 0. 0. 0. 0.]\n",
      " [0. 0. 0. 0. 0. 0. 0. 0. 0. 0. 0. 0. 0. 0. 0. 0. 0. 0. 0. 0.]\n",
      " [0. 0. 0. 0. 0. 0. 0. 0. 0. 0. 0. 0. 0. 0. 0. 0. 0. 0. 0. 0.]\n",
      " [0. 0. 0. 0. 0. 0. 0. 0. 0. 0. 0. 0. 0. 0. 0. 0. 0. 0. 0. 0.]\n",
      " [0. 0. 0. 0. 0. 0. 0. 0. 0. 0. 0. 0. 0. 0. 0. 0. 0. 0. 0. 0.]\n",
      " [0. 0. 0. 0. 0. 0. 0. 0. 0. 0. 0. 0. 0. 0. 0. 0. 0. 0. 0. 0.]\n",
      " [0. 0. 0. 0. 0. 0. 0. 0. 0. 0. 0. 0. 0. 0. 0. 0. 0. 0. 0. 0.]\n",
      " [0. 0. 0. 0. 0. 0. 0. 0. 0. 0. 0. 0. 0. 0. 0. 0. 0. 0. 0. 0.]\n",
      " [0. 0. 0. 0. 0. 0. 0. 0. 0. 0. 0. 0. 0. 0. 0. 0. 0. 0. 0. 0.]\n",
      " [0. 0. 0. 0. 0. 0. 0. 0. 0. 0. 0. 0. 0. 0. 0. 0. 0. 0. 0. 0.]\n",
      " [0. 0. 0. 0. 0. 0. 0. 0. 0. 0. 0. 0. 0. 0. 0. 0. 0. 0. 0. 0.]\n",
      " [0. 0. 0. 0. 0. 0. 0. 0. 0. 0. 0. 0. 0. 0. 0. 0. 0. 0. 0. 0.]\n",
      " [0. 0. 0. 0. 0. 0. 0. 0. 0. 0. 0. 0. 0. 0. 0. 0. 0. 0. 0. 0.]]\n"
     ]
    }
   ],
   "source": [
    "MAX = 20;\n",
    "\n",
    "# list of the vertices - 1D array\n",
    "vertices = [0]* MAX;\n",
    "print(vertices)\n",
    "\n",
    "# Graph - \n",
    "graph = np.zeros((MAX, MAX));\n",
    "print(graph)\n",
    "\n",
    "# Degree of the vertices\n",
    "d = [0] * MAX;"
   ]
  },
  {
   "cell_type": "code",
   "execution_count": null,
   "metadata": {},
   "outputs": [],
   "source": [
    "# Function to print the clique\n",
    "def print_clique(n) :\n",
    "\tfor i in range(1, n) :\n",
    "\t\tprint(vertices[i], end = \" \");\n",
    "\tprint(\",\", end=\" \");"
   ]
  },
  {
   "cell_type": "code",
   "execution_count": null,
   "metadata": {},
   "outputs": [],
   "source": [
    "# recursively  find all the cliques of size s\n",
    "def find_clique(i, l, k) :\n",
    "\n",
    "\t# Check if any vertices from i+1 can be inserted\n",
    "\tfor j in range( i + 1, n -(k - l) + 1) :\n",
    "\n",
    "\t\t# If the degree of the graph is sufficient\n",
    "\t\tif (d[j] >= k - 1) :\n",
    "\n",
    "\t\t\t# Add the vertex to store\n",
    "\t\t\tvertices\n",
    "\t\t\t[l] = j;\n",
    "\n",
    "\t\t\t# If the graph is not a clique of size k\n",
    "\t\t\t# then it cannot be a clique\n",
    "\t\t\t# by adding another edge\n",
    "\t\t\tif (is_clique(l + 1)) :\n",
    "\n",
    "\t\t\t\t# If the length of the clique is\n",
    "\t\t\t\t# still less than the desired size\n",
    "\t\t\t\tif (l < k) :\n",
    "\n",
    "\t\t\t\t\t# Recursion to add vertices\n",
    "\t\t\t\t\tfind_clique(j, l + 1, k);\n",
    "\n",
    "\t\t\t\t# Size is met\n",
    "\t\t\t\telse :\n",
    "\t\t\t\t\tprint_clique(l + 1);"
   ]
  },
  {
   "cell_type": "code",
   "execution_count": null,
   "metadata": {},
   "outputs": [
    {
     "name": "stdout",
     "output_type": "stream",
     "text": [
      "0 , 0 , 0 , 0 , 0 , None\n"
     ]
    }
   ],
   "source": [
    "edges = [ [ 1, 2 ],\n",
    "\t\t\t[ 2, 3 ],\n",
    "\t\t\t[ 3, 1 ],\n",
    "\t\t\t[ 4, 3 ],\n",
    "\t\t\t[ 4, 5 ],\n",
    "\t\t\t[ 5, 3 ] ];\n",
    "k = 1;\n",
    "size = len(edges);\n",
    "n = 5;\n",
    "for i in range(size) :\n",
    "\tgraph[edges[i][0]][edges[i][1]] = 1;\n",
    "\tgraph[edges[i][1]][edges[i][0]] = 1;\n",
    "\td[edges[i][0]] += 1;\n",
    "\td[edges[i][1]] += 1;\n",
    "\t\n",
    "\n",
    "print(findCliques(0, 1, k)"
   ]
  }
 ],
 "metadata": {
  "kernelspec": {
   "display_name": "Python 3.10.1 64-bit",
   "language": "python",
   "name": "python3"
  },
  "language_info": {
   "codemirror_mode": {
    "name": "ipython",
    "version": 3
   },
   "file_extension": ".py",
   "mimetype": "text/x-python",
   "name": "python",
   "nbconvert_exporter": "python",
   "pygments_lexer": "ipython3",
   "version": "3.10.1"
  },
  "vscode": {
   "interpreter": {
    "hash": "aee8b7b246df8f9039afb4144a1f6fd8d2ca17a180786b69acc140d282b71a49"
   }
  }
 },
 "nbformat": 4,
 "nbformat_minor": 0
}
