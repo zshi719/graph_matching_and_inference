{
 "cells": [
  {
   "cell_type": "markdown",
   "metadata": {
    "collapsed": false
   },
   "source": [
    "A model on $n$ vertices with order $d$.\n",
    "$K$ vertices forming a clique, meaning that any size-d tuple within the clique is connected by a hyperedge.\n",
    "All other size-$d$ tuples form a hyperedge with probability $q = 1/2$ ."
   ]
  },
  {
   "cell_type": "code",
   "execution_count": 34,
   "metadata": {
    "collapsed": false
   },
   "outputs": [],
   "source": [
    "import math\n",
    "import time as tm\n",
    "from itertools import permutations\n",
    "\n",
    "import numpy as np"
   ]
  },
  {
   "cell_type": "code",
   "execution_count": 35,
   "metadata": {},
   "outputs": [],
   "source": [
    "# set the degree of each vertex on graph to 1\n",
    "# def add_allll(i, j, k, g):\n",
    "#     g[np.array(list(set(permutations([i, j, k]))))] = 1\n",
    "#     return g\n",
    "\n",
    "# increment the degree of each vertex on graph g by 1\n",
    "# def add_all(i, j, k, g):\n",
    "#     g[i, j, k] = 1\n",
    "#     g[i, k, j] = 1\n",
    "#     g[j, i, k] = 1\n",
    "#     g[j, k, i] = 1\n",
    "#     g[k, i, j] = 1\n",
    "#     g[k, j, i] = 1\n",
    "#     return g\n",
    "\n",
    "\n",
    "# set the degree of each vertex on graph g to 0\n",
    "# def remove_all(i, j, k, g):\n",
    "#     g[np.array(list(set(permutations([i, j, k]))))] = 0\n",
    "#     return g\n",
    "\n",
    "# decrement the degree of each vertex on graph g to 0\n",
    "def remove_all(i, j, k, g):\n",
    "    g[i, j, k] = 0\n",
    "    g[i, k, j] = 0\n",
    "    g[j, i, k] = 0\n",
    "    g[j, k, i] = 0\n",
    "    g[k, i, j] = 0\n",
    "    g[k, j, i] = 0\n",
    "    return g"
   ]
  },
  {
   "cell_type": "code",
   "execution_count": 36,
   "metadata": {},
   "outputs": [
    {
     "ename": "IndentationError",
     "evalue": "expected an indented block after function definition on line 9 (2443805438.py, line 13)",
     "output_type": "error",
     "traceback": [
      "\u001b[0;36m  Input \u001b[0;32mIn [36]\u001b[0;36m\u001b[0m\n\u001b[0;31m    def create_edges():\u001b[0m\n\u001b[0m    ^\u001b[0m\n\u001b[0;31mIndentationError\u001b[0m\u001b[0;31m:\u001b[0m expected an indented block after function definition on line 9\n"
     ]
    }
   ],
   "source": [
    "### create a graph with planted clique\n",
    "\n",
    "# g: graph (represented as a tensor)\n",
    "# num_vertices: number of vertices on the graph (dimension, or rank of the tensor) \n",
    "# pr: probability of creating edges\n",
    "# clq_size: clique size\n",
    "\n",
    "def generate_graph(num_vertices, pr, clq_size):\n",
    "    # def add_all(i, j, k, g=g):\n",
    "    #     # print(np.array(list(set(permutations([i, j, k])))))\n",
    "    #     # g[np.array(list(set(permutations([i, j, k]))))] = 1\n",
    "\n",
    "    def create_edges():\n",
    "        for i in range(num_vertices):\n",
    "            for j in range(i + 1, num_vertices):\n",
    "                for k in range(j + 1, num_vertices):\n",
    "                    if np.random.uniform(0, 1, 1) < pr:\n",
    "                        vec[[i, j, k]] += 1\n",
    "                        g[np.array(list(set(permutations([i, j, k]))))] = 1\n",
    "                        # add_all(i, j, k, g)\n",
    "\n",
    "    def plant_clique():\n",
    "        for i in range(clq_size):\n",
    "            for j in range(i + 1, clq_size):\n",
    "                for k in range(j + 1, clq_size):\n",
    "                    vec[[clq_vertex[i], clq_vertex[j], clq_vertex[k]]] += 1\n",
    "                    g[np.array(list(set(permutations([clq_vertex[i], clq_vertex[j], clq_vertex[k]]))))] = 1\n",
    "                    # add_all(clq_vertex[i], clq_vertex[j], clq_vertex[k], g)\n",
    "\n",
    "    g = np.zeros((num_vertices, num_vertices, num_vertices))\n",
    "    vec = np.zeros(num_vertices, )\n",
    "    create_edges()\n",
    "    clq_vertex = np.random.choice(range(num_vertices), clq_size, replace=False)\n",
    "    plant_clique()\n",
    "\n",
    "    return g, vec, clq_vertex"
   ]
  },
  {
   "cell_type": "code",
   "execution_count": null,
   "metadata": {
    "collapsed": false
   },
   "outputs": [],
   "source": [
    "# calculate the total number of edges on a graph with num_vertices vertices\n",
    "def count_edge(g, num_vertices):\n",
    "    num_edges = 0\n",
    "    for i in range(num_vertices):\n",
    "        for j in range(i + 1, num_vertices):\n",
    "            for k in range(j + 1, num_vertices):\n",
    "                if g[i, j, k] == 1:\n",
    "                    num_edges += 1\n",
    "    return num_edges"
   ]
  },
  {
   "cell_type": "code",
   "execution_count": null,
   "metadata": {},
   "outputs": [],
   "source": [
    "# check if the graph is a clique\n",
    "def is_clique(g, vec, num_vertices):\n",
    "    active_count = np.count_nonzero(vec)  # number of vertices that are associated with at least 1 edge\n",
    "    edge_sum = count_edge(g, num_vertices)  # number of edges\n",
    "    return edge_sum == math.comb(active_count, 3)"
   ]
  },
  {
   "cell_type": "code",
   "execution_count": null,
   "metadata": {},
   "outputs": [],
   "source": [
    "# remove edge\n",
    "def remove_edges(g, num_vertices, vec, curr_idx):\n",
    "    def remove_all(i, j, k, g):\n",
    "        g[np.array(list(set(permutations([i, j, k]))))] = 0\n",
    "        \n",
    "    vec[curr_idx] = 0\n",
    "    for j in range(0, num_vertices):\n",
    "        for k in range(0, num_vertices):\n",
    "            if g[curr_idx, j, k] == 1:\n",
    "                vec[[j, k]] -= 1\n",
    "                remove_all(curr_idx, j, k, g)\n",
    "    return g, vec"
   ]
  },
  {
   "cell_type": "markdown",
   "metadata": {},
   "source": [
    "### Generate a graph\n",
    "N: number of vertices\n",
    "P: probability of an edge being included\n",
    "K: clique size\n",
    "\n",
    "G: graph with planted clique\n",
    "V: vector storing the number of edges associated with each vertex in the graph\n",
    "clique_vertices: the set of clique vertices"
   ]
  },
  {
   "cell_type": "code",
   "execution_count": null,
   "metadata": {
    "collapsed": false
   },
   "outputs": [
    {
     "ename": "UnboundLocalError",
     "evalue": "local variable 'g' referenced before assignment",
     "output_type": "error",
     "traceback": [
      "\u001b[0;31m---------------------------------------------------------------------------\u001b[0m",
      "\u001b[0;31mUnboundLocalError\u001b[0m                         Traceback (most recent call last)",
      "\u001b[1;32m/Users/victoriashi/PythonProjects/Graph/graph2.ipynb Cell 9\u001b[0m in \u001b[0;36m<cell line: 6>\u001b[0;34m()\u001b[0m\n\u001b[1;32m      <a href='vscode-notebook-cell:/Users/victoriashi/PythonProjects/Graph/graph2.ipynb#X11sZmlsZQ%3D%3D?line=2'>3</a>\u001b[0m K \u001b[39m=\u001b[39m \u001b[39m10\u001b[39m  \u001b[39m# clique size\u001b[39;00m\n\u001b[1;32m      <a href='vscode-notebook-cell:/Users/victoriashi/PythonProjects/Graph/graph2.ipynb#X11sZmlsZQ%3D%3D?line=4'>5</a>\u001b[0m start_generate \u001b[39m=\u001b[39m tm\u001b[39m.\u001b[39mtime()\n\u001b[0;32m----> <a href='vscode-notebook-cell:/Users/victoriashi/PythonProjects/Graph/graph2.ipynb#X11sZmlsZQ%3D%3D?line=5'>6</a>\u001b[0m res \u001b[39m=\u001b[39m generate_graph(N, P, K)\n\u001b[1;32m      <a href='vscode-notebook-cell:/Users/victoriashi/PythonProjects/Graph/graph2.ipynb#X11sZmlsZQ%3D%3D?line=6'>7</a>\u001b[0m G, V, clique_vertices \u001b[39m=\u001b[39m res[\u001b[39m0\u001b[39m], res[\u001b[39m1\u001b[39m], res[\u001b[39m-\u001b[39m\u001b[39m1\u001b[39m]\n\u001b[1;32m      <a href='vscode-notebook-cell:/Users/victoriashi/PythonProjects/Graph/graph2.ipynb#X11sZmlsZQ%3D%3D?line=7'>8</a>\u001b[0m G_0 \u001b[39m=\u001b[39m G\u001b[39m.\u001b[39mcopy()\n",
      "\u001b[1;32m/Users/victoriashi/PythonProjects/Graph/graph2.ipynb Cell 9\u001b[0m in \u001b[0;36mgenerate_graph\u001b[0;34m(num_vertices, pr, clq_size)\u001b[0m\n\u001b[1;32m      <a href='vscode-notebook-cell:/Users/victoriashi/PythonProjects/Graph/graph2.ipynb#X11sZmlsZQ%3D%3D?line=7'>8</a>\u001b[0m \u001b[39mdef\u001b[39;00m \u001b[39mgenerate_graph\u001b[39m(num_vertices, pr, clq_size):\n\u001b[0;32m----> <a href='vscode-notebook-cell:/Users/victoriashi/PythonProjects/Graph/graph2.ipynb#X11sZmlsZQ%3D%3D?line=8'>9</a>\u001b[0m     \u001b[39mdef\u001b[39;00m \u001b[39madd_all\u001b[39m(i, j, k, g\u001b[39m=\u001b[39mg):\n\u001b[1;32m     <a href='vscode-notebook-cell:/Users/victoriashi/PythonProjects/Graph/graph2.ipynb#X11sZmlsZQ%3D%3D?line=9'>10</a>\u001b[0m         \u001b[39mprint\u001b[39m(np\u001b[39m.\u001b[39marray(\u001b[39mlist\u001b[39m(\u001b[39mset\u001b[39m(permutations([i, j, k])))))\n\u001b[1;32m     <a href='vscode-notebook-cell:/Users/victoriashi/PythonProjects/Graph/graph2.ipynb#X11sZmlsZQ%3D%3D?line=10'>11</a>\u001b[0m         g[np\u001b[39m.\u001b[39marray(\u001b[39mlist\u001b[39m(\u001b[39mset\u001b[39m(permutations([i, j, k]))))] \u001b[39m=\u001b[39m \u001b[39m1\u001b[39m\n",
      "\u001b[0;31mUnboundLocalError\u001b[0m: local variable 'g' referenced before assignment"
     ]
    }
   ],
   "source": [
    "N = 100  # number of vertices\n",
    "P = 0.5  # probability of an edge being included\n",
    "K = 10  # clique size\n",
    "\n",
    "start_generate = tm.time()\n",
    "res = generate_graph(N, P, K)\n",
    "G, V, clique_vertices = res[0], res[1], res[-1]\n",
    "G_0 = G.copy()\n",
    "\n",
    "print(f\"edge-occurrence vector: {V}\\n\")\n",
    "print(f\"set of clique vertices after generation phase: {clique_vertices}\\n\")\n",
    "\n",
    "time_generate = np.round(tm.time() - start_generate, 3)\n",
    "# print(\"Time taken to generate graph: \", \"seconds\")"
   ]
  },
  {
   "cell_type": "markdown",
   "metadata": {},
   "source": [
    "### Removal Phase"
   ]
  },
  {
   "cell_type": "code",
   "execution_count": null,
   "metadata": {},
   "outputs": [
    {
     "name": "stdout",
     "output_type": "stream",
     "text": [
      "is a clique at iteration #0!!!\n"
     ]
    }
   ],
   "source": [
    "start_removal = tm.time()\n",
    "itr = 0\n",
    "removed = []  # keep track of the vertices removed from the original graph to form a clique\n",
    "\n",
    "while not is_clique(G, V, N):\n",
    "    itr += 1\n",
    "    curr = -1\n",
    "    idx_sorted = np.argsort(V)\n",
    "\n",
    "    for idx in range(N):\n",
    "        if V[idx_sorted[idx]] != 0:\n",
    "            curr = idx_sorted[idx]\n",
    "            removed.append(curr)\n",
    "            break\n",
    "\n",
    "    A = remove_edges(G, N, V, curr)\n",
    "    G = A[0]\n",
    "\n",
    "print(f\"is a clique at iteration #{itr}!!!\")\n",
    "time_remove = np.round(tm.time() - start_removal, 3)"
   ]
  },
  {
   "cell_type": "code",
   "execution_count": null,
   "metadata": {},
   "outputs": [
    {
     "name": "stdout",
     "output_type": "stream",
     "text": [
      "number of iterations in the removal phase: 0\n"
     ]
    }
   ],
   "source": [
    "print(f\"number of iterations in the removal phase: {itr}\")"
   ]
  },
  {
   "cell_type": "code",
   "execution_count": null,
   "metadata": {
    "collapsed": false
   },
   "outputs": [],
   "source": [
    "included = np.setdiff1d(np.arange(N), removed)\n",
    "# included"
   ]
  },
  {
   "cell_type": "markdown",
   "metadata": {
    "collapsed": false
   },
   "source": [
    "### Inclusion Phase"
   ]
  },
  {
   "cell_type": "code",
   "execution_count": null,
   "metadata": {},
   "outputs": [],
   "source": [
    "def inclusion_phase(target, in_set, g):\n",
    "    def connected():\n",
    "        for j in range(len(in_set)):\n",
    "            for k in range(j + 1, len(in_set)):\n",
    "                if g[target_idx, in_set[j], in_set[k]] != 1:\n",
    "                    # print(f\" vertex {idx} is not connected to all clique vertices\")\n",
    "                    return False\n",
    "        return True\n",
    "\n",
    "    for target_idx in target:\n",
    "        if connected():\n",
    "            print(f\"add {target_idx} to clique!\")\n",
    "            in_set = np.append(in_set, target_idx)\n",
    "            print(in_set)\n",
    "\n",
    "    return in_set"
   ]
  },
  {
   "cell_type": "code",
   "execution_count": null,
   "metadata": {},
   "outputs": [],
   "source": [
    "start_include = tm.time()\n",
    "res = inclusion_phase(removed, included, G_0)\n",
    "time_include = np.round(tm.time() - start_include, 3)"
   ]
  },
  {
   "cell_type": "code",
   "execution_count": null,
   "metadata": {},
   "outputs": [
    {
     "name": "stdout",
     "output_type": "stream",
     "text": [
      "Set of clique vertices after generation phase: [16 17 20 30 32 62 71 75 85 86]\n",
      "\n",
      "Set of clique vertices after removal phase: [ 0  1  2  3  4  5  6  7  8  9 10 11 12 13 14 15 16 17 18 19 20 21 22 23\n",
      " 24 25 26 27 28 29 30 31 32 33 34 35 36 37 38 39 40 41 42 43 44 45 46 47\n",
      " 48 49 50 51 52 53 54 55 56 57 58 59 60 61 62 63 64 65 66 67 68 69 70 71\n",
      " 72 73 74 75 76 77 78 79 80 81 82 83 84 85 86 87 88 89 90 91 92 93 94 95\n",
      " 96 97 98 99]\n",
      "\n",
      "Set of clique vertices after inclusion phase: [ 0  1  2  3  4  5  6  7  8  9 10 11 12 13 14 15 16 17 18 19 20 21 22 23\n",
      " 24 25 26 27 28 29 30 31 32 33 34 35 36 37 38 39 40 41 42 43 44 45 46 47\n",
      " 48 49 50 51 52 53 54 55 56 57 58 59 60 61 62 63 64 65 66 67 68 69 70 71\n",
      " 72 73 74 75 76 77 78 79 80 81 82 83 84 85 86 87 88 89 90 91 92 93 94 95\n",
      " 96 97 98 99]\n"
     ]
    }
   ],
   "source": [
    "print(f\"Set of clique vertices after generation phase: {np.sort(clique_vertices)}\\n\")\n",
    "print(f\"Set of clique vertices after removal phase: {np.sort(included)}\\n\")\n",
    "print(f\"Set of clique vertices after inclusion phase: {np.sort(res)}\")"
   ]
  }
 ],
 "metadata": {
  "kernelspec": {
   "display_name": "Python 3.10.1 64-bit",
   "language": "python",
   "name": "python3"
  },
  "language_info": {
   "codemirror_mode": {
    "name": "ipython",
    "version": 3
   },
   "file_extension": ".py",
   "mimetype": "text/x-python",
   "name": "python",
   "nbconvert_exporter": "python",
   "pygments_lexer": "ipython3",
   "version": "3.10.1"
  },
  "vscode": {
   "interpreter": {
    "hash": "aee8b7b246df8f9039afb4144a1f6fd8d2ca17a180786b69acc140d282b71a49"
   }
  }
 },
 "nbformat": 4,
 "nbformat_minor": 0
}
